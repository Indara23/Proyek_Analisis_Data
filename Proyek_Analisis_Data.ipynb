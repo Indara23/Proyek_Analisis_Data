{
  "cells": [
    {
      "cell_type": "markdown",
      "metadata": {
        "id": "H9wADwK78DCz"
      },
      "source": [
        "# Proyek Analisis Data: [Bike Dataset]\n",
        "- **Nama:** Indars Nurwulandari\n",
        "- **Email:** indaranr23@gmail.com\n",
        "- **ID Dicoding:** MC008D5X2388"
      ]
    },
    {
      "cell_type": "markdown",
      "metadata": {
        "id": "eE0raob58DC0"
      },
      "source": [
        "## Menentukan Pertanyaan Bisnis"
      ]
    },
    {
      "cell_type": "markdown",
      "metadata": {
        "id": "GmQeQ5YF8DC0"
      },
      "source": [
        "- **Pertanyaan 1** : Bagaimana pengaruh cuaca dan musim terhadap rata-rata jumlah penyewaan sepeda?\n",
        "- **Pertanyaan 2** : Pada jam berapa terjadi lonjakan penyewaan sepeda dalam sehari?\n",
        "- **Pertanyaan 3** : Bagaimana perbandingan rata-rata jumlah penyewaan sepeda antara hari kerja dan hari libur?\n",
        "- **Pertanyaan 4** : Hari apa yang memiliki rata-rata jumlah penyewaan tertinggi?"
      ]
    },
    {
      "cell_type": "markdown",
      "metadata": {
        "id": "H-z4QGlO8DC1"
      },
      "source": [
        "## Import Semua Packages/Library yang Digunakan"
      ]
    },
    {
      "cell_type": "code",
      "execution_count": 36,
      "metadata": {
        "id": "FVYwaObI8DC1"
      },
      "outputs": [],
      "source": [
        "import numpy as np\n",
        "import pandas as pd\n",
        "import matplotlib.pyplot as plt\n",
        "import seaborn as sns"
      ]
    },
    {
      "cell_type": "markdown",
      "metadata": {
        "id": "h_Sh51Xy8DC1"
      },
      "source": [
        "## Data Wrangling"
      ]
    },
    {
      "cell_type": "markdown",
      "metadata": {
        "id": "sXU2GBYu8DC1"
      },
      "source": [
        "### Gathering Data"
      ]
    },
    {
      "cell_type": "code",
      "execution_count": 37,
      "metadata": {
        "colab": {
          "base_uri": "https://localhost:8080/",
          "height": 313
        },
        "id": "zjCBk1BI8DC1",
        "outputId": "c6ba4739-d59f-460e-a3ec-6eafb0bd0ffc"
      },
      "outputs": [
        {
          "data": {
            "text/html": [
              "<div>\n",
              "<style scoped>\n",
              "    .dataframe tbody tr th:only-of-type {\n",
              "        vertical-align: middle;\n",
              "    }\n",
              "\n",
              "    .dataframe tbody tr th {\n",
              "        vertical-align: top;\n",
              "    }\n",
              "\n",
              "    .dataframe thead th {\n",
              "        text-align: right;\n",
              "    }\n",
              "</style>\n",
              "<table border=\"1\" class=\"dataframe\">\n",
              "  <thead>\n",
              "    <tr style=\"text-align: right;\">\n",
              "      <th></th>\n",
              "      <th>instant</th>\n",
              "      <th>dteday</th>\n",
              "      <th>season</th>\n",
              "      <th>yr</th>\n",
              "      <th>mnth</th>\n",
              "      <th>holiday</th>\n",
              "      <th>weekday</th>\n",
              "      <th>workingday</th>\n",
              "      <th>weathersit</th>\n",
              "      <th>temp</th>\n",
              "      <th>atemp</th>\n",
              "      <th>hum</th>\n",
              "      <th>windspeed</th>\n",
              "      <th>casual</th>\n",
              "      <th>registered</th>\n",
              "      <th>cnt</th>\n",
              "    </tr>\n",
              "  </thead>\n",
              "  <tbody>\n",
              "    <tr>\n",
              "      <th>0</th>\n",
              "      <td>1</td>\n",
              "      <td>2011-01-01</td>\n",
              "      <td>1</td>\n",
              "      <td>0</td>\n",
              "      <td>1</td>\n",
              "      <td>0</td>\n",
              "      <td>6</td>\n",
              "      <td>0</td>\n",
              "      <td>2</td>\n",
              "      <td>0.344167</td>\n",
              "      <td>0.363625</td>\n",
              "      <td>0.805833</td>\n",
              "      <td>0.160446</td>\n",
              "      <td>331</td>\n",
              "      <td>654</td>\n",
              "      <td>985</td>\n",
              "    </tr>\n",
              "    <tr>\n",
              "      <th>1</th>\n",
              "      <td>2</td>\n",
              "      <td>2011-01-02</td>\n",
              "      <td>1</td>\n",
              "      <td>0</td>\n",
              "      <td>1</td>\n",
              "      <td>0</td>\n",
              "      <td>0</td>\n",
              "      <td>0</td>\n",
              "      <td>2</td>\n",
              "      <td>0.363478</td>\n",
              "      <td>0.353739</td>\n",
              "      <td>0.696087</td>\n",
              "      <td>0.248539</td>\n",
              "      <td>131</td>\n",
              "      <td>670</td>\n",
              "      <td>801</td>\n",
              "    </tr>\n",
              "    <tr>\n",
              "      <th>2</th>\n",
              "      <td>3</td>\n",
              "      <td>2011-01-03</td>\n",
              "      <td>1</td>\n",
              "      <td>0</td>\n",
              "      <td>1</td>\n",
              "      <td>0</td>\n",
              "      <td>1</td>\n",
              "      <td>1</td>\n",
              "      <td>1</td>\n",
              "      <td>0.196364</td>\n",
              "      <td>0.189405</td>\n",
              "      <td>0.437273</td>\n",
              "      <td>0.248309</td>\n",
              "      <td>120</td>\n",
              "      <td>1229</td>\n",
              "      <td>1349</td>\n",
              "    </tr>\n",
              "    <tr>\n",
              "      <th>3</th>\n",
              "      <td>4</td>\n",
              "      <td>2011-01-04</td>\n",
              "      <td>1</td>\n",
              "      <td>0</td>\n",
              "      <td>1</td>\n",
              "      <td>0</td>\n",
              "      <td>2</td>\n",
              "      <td>1</td>\n",
              "      <td>1</td>\n",
              "      <td>0.200000</td>\n",
              "      <td>0.212122</td>\n",
              "      <td>0.590435</td>\n",
              "      <td>0.160296</td>\n",
              "      <td>108</td>\n",
              "      <td>1454</td>\n",
              "      <td>1562</td>\n",
              "    </tr>\n",
              "    <tr>\n",
              "      <th>4</th>\n",
              "      <td>5</td>\n",
              "      <td>2011-01-05</td>\n",
              "      <td>1</td>\n",
              "      <td>0</td>\n",
              "      <td>1</td>\n",
              "      <td>0</td>\n",
              "      <td>3</td>\n",
              "      <td>1</td>\n",
              "      <td>1</td>\n",
              "      <td>0.226957</td>\n",
              "      <td>0.229270</td>\n",
              "      <td>0.436957</td>\n",
              "      <td>0.186900</td>\n",
              "      <td>82</td>\n",
              "      <td>1518</td>\n",
              "      <td>1600</td>\n",
              "    </tr>\n",
              "  </tbody>\n",
              "</table>\n",
              "</div>"
            ],
            "text/plain": [
              "   instant      dteday  season  yr  mnth  holiday  weekday  workingday  \\\n",
              "0        1  2011-01-01       1   0     1        0        6           0   \n",
              "1        2  2011-01-02       1   0     1        0        0           0   \n",
              "2        3  2011-01-03       1   0     1        0        1           1   \n",
              "3        4  2011-01-04       1   0     1        0        2           1   \n",
              "4        5  2011-01-05       1   0     1        0        3           1   \n",
              "\n",
              "   weathersit      temp     atemp       hum  windspeed  casual  registered  \\\n",
              "0           2  0.344167  0.363625  0.805833   0.160446     331         654   \n",
              "1           2  0.363478  0.353739  0.696087   0.248539     131         670   \n",
              "2           1  0.196364  0.189405  0.437273   0.248309     120        1229   \n",
              "3           1  0.200000  0.212122  0.590435   0.160296     108        1454   \n",
              "4           1  0.226957  0.229270  0.436957   0.186900      82        1518   \n",
              "\n",
              "    cnt  \n",
              "0   985  \n",
              "1   801  \n",
              "2  1349  \n",
              "3  1562  \n",
              "4  1600  "
            ]
          },
          "execution_count": 37,
          "metadata": {},
          "output_type": "execute_result"
        }
      ],
      "source": [
        "day_df = pd.read_csv(\"day.csv\")\n",
        "day_df.head()"
      ]
    },
    {
      "cell_type": "code",
      "execution_count": 38,
      "metadata": {
        "colab": {
          "base_uri": "https://localhost:8080/",
          "height": 617
        },
        "id": "W4boy6AXYQP0",
        "outputId": "0e974713-427c-4872-c964-0c0fbb3ffd34"
      },
      "outputs": [
        {
          "data": {
            "text/html": [
              "<div>\n",
              "<style scoped>\n",
              "    .dataframe tbody tr th:only-of-type {\n",
              "        vertical-align: middle;\n",
              "    }\n",
              "\n",
              "    .dataframe tbody tr th {\n",
              "        vertical-align: top;\n",
              "    }\n",
              "\n",
              "    .dataframe thead th {\n",
              "        text-align: right;\n",
              "    }\n",
              "</style>\n",
              "<table border=\"1\" class=\"dataframe\">\n",
              "  <thead>\n",
              "    <tr style=\"text-align: right;\">\n",
              "      <th></th>\n",
              "      <th>instant</th>\n",
              "      <th>dteday</th>\n",
              "      <th>season</th>\n",
              "      <th>yr</th>\n",
              "      <th>mnth</th>\n",
              "      <th>hr</th>\n",
              "      <th>holiday</th>\n",
              "      <th>weekday</th>\n",
              "      <th>workingday</th>\n",
              "      <th>weathersit</th>\n",
              "      <th>temp</th>\n",
              "      <th>atemp</th>\n",
              "      <th>hum</th>\n",
              "      <th>windspeed</th>\n",
              "      <th>casual</th>\n",
              "      <th>registered</th>\n",
              "      <th>cnt</th>\n",
              "    </tr>\n",
              "  </thead>\n",
              "  <tbody>\n",
              "    <tr>\n",
              "      <th>0</th>\n",
              "      <td>1</td>\n",
              "      <td>2011-01-01</td>\n",
              "      <td>1</td>\n",
              "      <td>0</td>\n",
              "      <td>1</td>\n",
              "      <td>0</td>\n",
              "      <td>0</td>\n",
              "      <td>6</td>\n",
              "      <td>0</td>\n",
              "      <td>1</td>\n",
              "      <td>0.24</td>\n",
              "      <td>0.2879</td>\n",
              "      <td>0.81</td>\n",
              "      <td>0.0</td>\n",
              "      <td>3</td>\n",
              "      <td>13</td>\n",
              "      <td>16</td>\n",
              "    </tr>\n",
              "    <tr>\n",
              "      <th>1</th>\n",
              "      <td>2</td>\n",
              "      <td>2011-01-01</td>\n",
              "      <td>1</td>\n",
              "      <td>0</td>\n",
              "      <td>1</td>\n",
              "      <td>1</td>\n",
              "      <td>0</td>\n",
              "      <td>6</td>\n",
              "      <td>0</td>\n",
              "      <td>1</td>\n",
              "      <td>0.22</td>\n",
              "      <td>0.2727</td>\n",
              "      <td>0.80</td>\n",
              "      <td>0.0</td>\n",
              "      <td>8</td>\n",
              "      <td>32</td>\n",
              "      <td>40</td>\n",
              "    </tr>\n",
              "    <tr>\n",
              "      <th>2</th>\n",
              "      <td>3</td>\n",
              "      <td>2011-01-01</td>\n",
              "      <td>1</td>\n",
              "      <td>0</td>\n",
              "      <td>1</td>\n",
              "      <td>2</td>\n",
              "      <td>0</td>\n",
              "      <td>6</td>\n",
              "      <td>0</td>\n",
              "      <td>1</td>\n",
              "      <td>0.22</td>\n",
              "      <td>0.2727</td>\n",
              "      <td>0.80</td>\n",
              "      <td>0.0</td>\n",
              "      <td>5</td>\n",
              "      <td>27</td>\n",
              "      <td>32</td>\n",
              "    </tr>\n",
              "    <tr>\n",
              "      <th>3</th>\n",
              "      <td>4</td>\n",
              "      <td>2011-01-01</td>\n",
              "      <td>1</td>\n",
              "      <td>0</td>\n",
              "      <td>1</td>\n",
              "      <td>3</td>\n",
              "      <td>0</td>\n",
              "      <td>6</td>\n",
              "      <td>0</td>\n",
              "      <td>1</td>\n",
              "      <td>0.24</td>\n",
              "      <td>0.2879</td>\n",
              "      <td>0.75</td>\n",
              "      <td>0.0</td>\n",
              "      <td>3</td>\n",
              "      <td>10</td>\n",
              "      <td>13</td>\n",
              "    </tr>\n",
              "    <tr>\n",
              "      <th>4</th>\n",
              "      <td>5</td>\n",
              "      <td>2011-01-01</td>\n",
              "      <td>1</td>\n",
              "      <td>0</td>\n",
              "      <td>1</td>\n",
              "      <td>4</td>\n",
              "      <td>0</td>\n",
              "      <td>6</td>\n",
              "      <td>0</td>\n",
              "      <td>1</td>\n",
              "      <td>0.24</td>\n",
              "      <td>0.2879</td>\n",
              "      <td>0.75</td>\n",
              "      <td>0.0</td>\n",
              "      <td>0</td>\n",
              "      <td>1</td>\n",
              "      <td>1</td>\n",
              "    </tr>\n",
              "  </tbody>\n",
              "</table>\n",
              "</div>"
            ],
            "text/plain": [
              "   instant      dteday  season  yr  mnth  hr  holiday  weekday  workingday  \\\n",
              "0        1  2011-01-01       1   0     1   0        0        6           0   \n",
              "1        2  2011-01-01       1   0     1   1        0        6           0   \n",
              "2        3  2011-01-01       1   0     1   2        0        6           0   \n",
              "3        4  2011-01-01       1   0     1   3        0        6           0   \n",
              "4        5  2011-01-01       1   0     1   4        0        6           0   \n",
              "\n",
              "   weathersit  temp   atemp   hum  windspeed  casual  registered  cnt  \n",
              "0           1  0.24  0.2879  0.81        0.0       3          13   16  \n",
              "1           1  0.22  0.2727  0.80        0.0       8          32   40  \n",
              "2           1  0.22  0.2727  0.80        0.0       5          27   32  \n",
              "3           1  0.24  0.2879  0.75        0.0       3          10   13  \n",
              "4           1  0.24  0.2879  0.75        0.0       0           1    1  "
            ]
          },
          "execution_count": 38,
          "metadata": {},
          "output_type": "execute_result"
        }
      ],
      "source": [
        "hour_df = pd.read_csv(\"hour.csv\")\n",
        "hour_df.head()"
      ]
    },
    {
      "cell_type": "markdown",
      "metadata": {
        "id": "MMi6xGaDkbCi"
      },
      "source": [
        "**Insight:**\n",
        "- Data day_df merupakan data penyewaan sepeda antara tahun 2011 dan 2012 berdasarkan harian sedangkan data hour_df merupakan data penyewaan sepeda berdasarkan per jam.\n",
        "- Pada kedua data, terdapat variabel faktor eksternal seperti cuaca (weathersit, temp, hum, dan windspeed) yang dapat dilakukan analisis lanjutan."
      ]
    },
    {
      "cell_type": "markdown",
      "metadata": {
        "id": "FHSiqaZp8DC1"
      },
      "source": [
        "### Assessing Data"
      ]
    },
    {
      "cell_type": "markdown",
      "metadata": {
        "id": "scfJ8m-aY4h6"
      },
      "source": [
        "**Menilai Data untuk data \"day_df\"**"
      ]
    },
    {
      "cell_type": "code",
      "execution_count": 39,
      "metadata": {
        "colab": {
          "base_uri": "https://localhost:8080/"
        },
        "id": "ax-3tEjc9Cj1",
        "outputId": "53e048cf-ae35-41ba-eac6-87d835631547"
      },
      "outputs": [
        {
          "name": "stdout",
          "output_type": "stream",
          "text": [
            "<class 'pandas.core.frame.DataFrame'>\n",
            "RangeIndex: 731 entries, 0 to 730\n",
            "Data columns (total 16 columns):\n",
            " #   Column      Non-Null Count  Dtype  \n",
            "---  ------      --------------  -----  \n",
            " 0   instant     731 non-null    int64  \n",
            " 1   dteday      731 non-null    object \n",
            " 2   season      731 non-null    int64  \n",
            " 3   yr          731 non-null    int64  \n",
            " 4   mnth        731 non-null    int64  \n",
            " 5   holiday     731 non-null    int64  \n",
            " 6   weekday     731 non-null    int64  \n",
            " 7   workingday  731 non-null    int64  \n",
            " 8   weathersit  731 non-null    int64  \n",
            " 9   temp        731 non-null    float64\n",
            " 10  atemp       731 non-null    float64\n",
            " 11  hum         731 non-null    float64\n",
            " 12  windspeed   731 non-null    float64\n",
            " 13  casual      731 non-null    int64  \n",
            " 14  registered  731 non-null    int64  \n",
            " 15  cnt         731 non-null    int64  \n",
            "dtypes: float64(4), int64(11), object(1)\n",
            "memory usage: 91.5+ KB\n"
          ]
        }
      ],
      "source": [
        "day_df.info()"
      ]
    },
    {
      "cell_type": "code",
      "execution_count": 40,
      "metadata": {
        "colab": {
          "base_uri": "https://localhost:8080/",
          "height": 586
        },
        "id": "7Cr7WZtBZD1m",
        "outputId": "9afa85a5-3961-45ab-adc1-d5e52bfc819c"
      },
      "outputs": [
        {
          "data": {
            "text/plain": [
              "instant       0\n",
              "dteday        0\n",
              "season        0\n",
              "yr            0\n",
              "mnth          0\n",
              "holiday       0\n",
              "weekday       0\n",
              "workingday    0\n",
              "weathersit    0\n",
              "temp          0\n",
              "atemp         0\n",
              "hum           0\n",
              "windspeed     0\n",
              "casual        0\n",
              "registered    0\n",
              "cnt           0\n",
              "dtype: int64"
            ]
          },
          "execution_count": 40,
          "metadata": {},
          "output_type": "execute_result"
        }
      ],
      "source": [
        "day_df.isna().sum()"
      ]
    },
    {
      "cell_type": "code",
      "execution_count": 41,
      "metadata": {
        "colab": {
          "base_uri": "https://localhost:8080/"
        },
        "id": "eBNBT7p8ZMHK",
        "outputId": "a00c003b-2e52-48d0-f2db-cf052093ad5a"
      },
      "outputs": [
        {
          "name": "stdout",
          "output_type": "stream",
          "text": [
            "Jumlah duplikasi:  0\n"
          ]
        }
      ],
      "source": [
        "print(\"Jumlah duplikasi: \", day_df.duplicated().sum())"
      ]
    },
    {
      "cell_type": "code",
      "execution_count": 42,
      "metadata": {
        "colab": {
          "base_uri": "https://localhost:8080/",
          "height": 320
        },
        "id": "A1iU7-ggZSyx",
        "outputId": "8b9a9d48-14b2-4378-c8b3-c4dd86b29cc5"
      },
      "outputs": [
        {
          "data": {
            "text/html": [
              "<div>\n",
              "<style scoped>\n",
              "    .dataframe tbody tr th:only-of-type {\n",
              "        vertical-align: middle;\n",
              "    }\n",
              "\n",
              "    .dataframe tbody tr th {\n",
              "        vertical-align: top;\n",
              "    }\n",
              "\n",
              "    .dataframe thead th {\n",
              "        text-align: right;\n",
              "    }\n",
              "</style>\n",
              "<table border=\"1\" class=\"dataframe\">\n",
              "  <thead>\n",
              "    <tr style=\"text-align: right;\">\n",
              "      <th></th>\n",
              "      <th>instant</th>\n",
              "      <th>season</th>\n",
              "      <th>yr</th>\n",
              "      <th>mnth</th>\n",
              "      <th>holiday</th>\n",
              "      <th>weekday</th>\n",
              "      <th>workingday</th>\n",
              "      <th>weathersit</th>\n",
              "      <th>temp</th>\n",
              "      <th>atemp</th>\n",
              "      <th>hum</th>\n",
              "      <th>windspeed</th>\n",
              "      <th>casual</th>\n",
              "      <th>registered</th>\n",
              "      <th>cnt</th>\n",
              "    </tr>\n",
              "  </thead>\n",
              "  <tbody>\n",
              "    <tr>\n",
              "      <th>count</th>\n",
              "      <td>731.000000</td>\n",
              "      <td>731.000000</td>\n",
              "      <td>731.000000</td>\n",
              "      <td>731.000000</td>\n",
              "      <td>731.000000</td>\n",
              "      <td>731.000000</td>\n",
              "      <td>731.000000</td>\n",
              "      <td>731.000000</td>\n",
              "      <td>731.000000</td>\n",
              "      <td>731.000000</td>\n",
              "      <td>731.000000</td>\n",
              "      <td>731.000000</td>\n",
              "      <td>731.000000</td>\n",
              "      <td>731.000000</td>\n",
              "      <td>731.000000</td>\n",
              "    </tr>\n",
              "    <tr>\n",
              "      <th>mean</th>\n",
              "      <td>366.000000</td>\n",
              "      <td>2.496580</td>\n",
              "      <td>0.500684</td>\n",
              "      <td>6.519836</td>\n",
              "      <td>0.028728</td>\n",
              "      <td>2.997264</td>\n",
              "      <td>0.683995</td>\n",
              "      <td>1.395349</td>\n",
              "      <td>0.495385</td>\n",
              "      <td>0.474354</td>\n",
              "      <td>0.627894</td>\n",
              "      <td>0.190486</td>\n",
              "      <td>848.176471</td>\n",
              "      <td>3656.172367</td>\n",
              "      <td>4504.348837</td>\n",
              "    </tr>\n",
              "    <tr>\n",
              "      <th>std</th>\n",
              "      <td>211.165812</td>\n",
              "      <td>1.110807</td>\n",
              "      <td>0.500342</td>\n",
              "      <td>3.451913</td>\n",
              "      <td>0.167155</td>\n",
              "      <td>2.004787</td>\n",
              "      <td>0.465233</td>\n",
              "      <td>0.544894</td>\n",
              "      <td>0.183051</td>\n",
              "      <td>0.162961</td>\n",
              "      <td>0.142429</td>\n",
              "      <td>0.077498</td>\n",
              "      <td>686.622488</td>\n",
              "      <td>1560.256377</td>\n",
              "      <td>1937.211452</td>\n",
              "    </tr>\n",
              "    <tr>\n",
              "      <th>min</th>\n",
              "      <td>1.000000</td>\n",
              "      <td>1.000000</td>\n",
              "      <td>0.000000</td>\n",
              "      <td>1.000000</td>\n",
              "      <td>0.000000</td>\n",
              "      <td>0.000000</td>\n",
              "      <td>0.000000</td>\n",
              "      <td>1.000000</td>\n",
              "      <td>0.059130</td>\n",
              "      <td>0.079070</td>\n",
              "      <td>0.000000</td>\n",
              "      <td>0.022392</td>\n",
              "      <td>2.000000</td>\n",
              "      <td>20.000000</td>\n",
              "      <td>22.000000</td>\n",
              "    </tr>\n",
              "    <tr>\n",
              "      <th>25%</th>\n",
              "      <td>183.500000</td>\n",
              "      <td>2.000000</td>\n",
              "      <td>0.000000</td>\n",
              "      <td>4.000000</td>\n",
              "      <td>0.000000</td>\n",
              "      <td>1.000000</td>\n",
              "      <td>0.000000</td>\n",
              "      <td>1.000000</td>\n",
              "      <td>0.337083</td>\n",
              "      <td>0.337842</td>\n",
              "      <td>0.520000</td>\n",
              "      <td>0.134950</td>\n",
              "      <td>315.500000</td>\n",
              "      <td>2497.000000</td>\n",
              "      <td>3152.000000</td>\n",
              "    </tr>\n",
              "    <tr>\n",
              "      <th>50%</th>\n",
              "      <td>366.000000</td>\n",
              "      <td>3.000000</td>\n",
              "      <td>1.000000</td>\n",
              "      <td>7.000000</td>\n",
              "      <td>0.000000</td>\n",
              "      <td>3.000000</td>\n",
              "      <td>1.000000</td>\n",
              "      <td>1.000000</td>\n",
              "      <td>0.498333</td>\n",
              "      <td>0.486733</td>\n",
              "      <td>0.626667</td>\n",
              "      <td>0.180975</td>\n",
              "      <td>713.000000</td>\n",
              "      <td>3662.000000</td>\n",
              "      <td>4548.000000</td>\n",
              "    </tr>\n",
              "    <tr>\n",
              "      <th>75%</th>\n",
              "      <td>548.500000</td>\n",
              "      <td>3.000000</td>\n",
              "      <td>1.000000</td>\n",
              "      <td>10.000000</td>\n",
              "      <td>0.000000</td>\n",
              "      <td>5.000000</td>\n",
              "      <td>1.000000</td>\n",
              "      <td>2.000000</td>\n",
              "      <td>0.655417</td>\n",
              "      <td>0.608602</td>\n",
              "      <td>0.730209</td>\n",
              "      <td>0.233214</td>\n",
              "      <td>1096.000000</td>\n",
              "      <td>4776.500000</td>\n",
              "      <td>5956.000000</td>\n",
              "    </tr>\n",
              "    <tr>\n",
              "      <th>max</th>\n",
              "      <td>731.000000</td>\n",
              "      <td>4.000000</td>\n",
              "      <td>1.000000</td>\n",
              "      <td>12.000000</td>\n",
              "      <td>1.000000</td>\n",
              "      <td>6.000000</td>\n",
              "      <td>1.000000</td>\n",
              "      <td>3.000000</td>\n",
              "      <td>0.861667</td>\n",
              "      <td>0.840896</td>\n",
              "      <td>0.972500</td>\n",
              "      <td>0.507463</td>\n",
              "      <td>3410.000000</td>\n",
              "      <td>6946.000000</td>\n",
              "      <td>8714.000000</td>\n",
              "    </tr>\n",
              "  </tbody>\n",
              "</table>\n",
              "</div>"
            ],
            "text/plain": [
              "          instant      season          yr        mnth     holiday     weekday  \\\n",
              "count  731.000000  731.000000  731.000000  731.000000  731.000000  731.000000   \n",
              "mean   366.000000    2.496580    0.500684    6.519836    0.028728    2.997264   \n",
              "std    211.165812    1.110807    0.500342    3.451913    0.167155    2.004787   \n",
              "min      1.000000    1.000000    0.000000    1.000000    0.000000    0.000000   \n",
              "25%    183.500000    2.000000    0.000000    4.000000    0.000000    1.000000   \n",
              "50%    366.000000    3.000000    1.000000    7.000000    0.000000    3.000000   \n",
              "75%    548.500000    3.000000    1.000000   10.000000    0.000000    5.000000   \n",
              "max    731.000000    4.000000    1.000000   12.000000    1.000000    6.000000   \n",
              "\n",
              "       workingday  weathersit        temp       atemp         hum   windspeed  \\\n",
              "count  731.000000  731.000000  731.000000  731.000000  731.000000  731.000000   \n",
              "mean     0.683995    1.395349    0.495385    0.474354    0.627894    0.190486   \n",
              "std      0.465233    0.544894    0.183051    0.162961    0.142429    0.077498   \n",
              "min      0.000000    1.000000    0.059130    0.079070    0.000000    0.022392   \n",
              "25%      0.000000    1.000000    0.337083    0.337842    0.520000    0.134950   \n",
              "50%      1.000000    1.000000    0.498333    0.486733    0.626667    0.180975   \n",
              "75%      1.000000    2.000000    0.655417    0.608602    0.730209    0.233214   \n",
              "max      1.000000    3.000000    0.861667    0.840896    0.972500    0.507463   \n",
              "\n",
              "            casual   registered          cnt  \n",
              "count   731.000000   731.000000   731.000000  \n",
              "mean    848.176471  3656.172367  4504.348837  \n",
              "std     686.622488  1560.256377  1937.211452  \n",
              "min       2.000000    20.000000    22.000000  \n",
              "25%     315.500000  2497.000000  3152.000000  \n",
              "50%     713.000000  3662.000000  4548.000000  \n",
              "75%    1096.000000  4776.500000  5956.000000  \n",
              "max    3410.000000  6946.000000  8714.000000  "
            ]
          },
          "execution_count": 42,
          "metadata": {},
          "output_type": "execute_result"
        }
      ],
      "source": [
        "day_df.describe()"
      ]
    },
    {
      "cell_type": "markdown",
      "metadata": {
        "id": "7dtxhAPrkhPL"
      },
      "source": [
        "**Insight:**\n",
        "- Pada data day_df tidak terdapat missing values dari 731 data dan tidak ada data yang duplikasi.\n",
        "- Perlu ada penyesuaian tipe data pada beberapa variabel seperti variabel dteday yang bertipe data object namun seharusnya datetime. Selain itu terdapat variabel lain seperti season, holiday, workingday, weathershit yang seharusnya termasuk data kategorik.\n",
        "- Rata-rata penyewaan 4.504 sepeda per hari, dengan jumlah terbanyak sebesar 8.714 sepeda per hari dan jumlah tersedikit sebesar 22 sepeda per hari."
      ]
    },
    {
      "cell_type": "markdown",
      "metadata": {
        "id": "Oe0PaCj8ZV46"
      },
      "source": [
        "**Menilai Data untuk Data \"Hour\"**"
      ]
    },
    {
      "cell_type": "code",
      "execution_count": 43,
      "metadata": {
        "colab": {
          "base_uri": "https://localhost:8080/"
        },
        "id": "DmezgznpZeLW",
        "outputId": "ebaa5a13-cb64-485c-8452-be2272067a79"
      },
      "outputs": [
        {
          "name": "stdout",
          "output_type": "stream",
          "text": [
            "<class 'pandas.core.frame.DataFrame'>\n",
            "RangeIndex: 17379 entries, 0 to 17378\n",
            "Data columns (total 17 columns):\n",
            " #   Column      Non-Null Count  Dtype  \n",
            "---  ------      --------------  -----  \n",
            " 0   instant     17379 non-null  int64  \n",
            " 1   dteday      17379 non-null  object \n",
            " 2   season      17379 non-null  int64  \n",
            " 3   yr          17379 non-null  int64  \n",
            " 4   mnth        17379 non-null  int64  \n",
            " 5   hr          17379 non-null  int64  \n",
            " 6   holiday     17379 non-null  int64  \n",
            " 7   weekday     17379 non-null  int64  \n",
            " 8   workingday  17379 non-null  int64  \n",
            " 9   weathersit  17379 non-null  int64  \n",
            " 10  temp        17379 non-null  float64\n",
            " 11  atemp       17379 non-null  float64\n",
            " 12  hum         17379 non-null  float64\n",
            " 13  windspeed   17379 non-null  float64\n",
            " 14  casual      17379 non-null  int64  \n",
            " 15  registered  17379 non-null  int64  \n",
            " 16  cnt         17379 non-null  int64  \n",
            "dtypes: float64(4), int64(12), object(1)\n",
            "memory usage: 2.3+ MB\n"
          ]
        }
      ],
      "source": [
        "hour_df.info()"
      ]
    },
    {
      "cell_type": "code",
      "execution_count": 44,
      "metadata": {
        "colab": {
          "base_uri": "https://localhost:8080/",
          "height": 617
        },
        "id": "88zkvXKyZiHJ",
        "outputId": "8124007b-330a-4967-e74a-a837f823dd31"
      },
      "outputs": [
        {
          "data": {
            "text/plain": [
              "instant       0\n",
              "dteday        0\n",
              "season        0\n",
              "yr            0\n",
              "mnth          0\n",
              "hr            0\n",
              "holiday       0\n",
              "weekday       0\n",
              "workingday    0\n",
              "weathersit    0\n",
              "temp          0\n",
              "atemp         0\n",
              "hum           0\n",
              "windspeed     0\n",
              "casual        0\n",
              "registered    0\n",
              "cnt           0\n",
              "dtype: int64"
            ]
          },
          "execution_count": 44,
          "metadata": {},
          "output_type": "execute_result"
        }
      ],
      "source": [
        "hour_df.isna().sum()"
      ]
    },
    {
      "cell_type": "code",
      "execution_count": 45,
      "metadata": {
        "colab": {
          "base_uri": "https://localhost:8080/"
        },
        "id": "PYd0FKlkZnVV",
        "outputId": "f493f0fe-21d4-44c4-9aad-0385b5bf0575"
      },
      "outputs": [
        {
          "name": "stdout",
          "output_type": "stream",
          "text": [
            "Jumlah duplikasi:  0\n"
          ]
        }
      ],
      "source": [
        "print(\"Jumlah duplikasi: \", hour_df.duplicated().sum())"
      ]
    },
    {
      "cell_type": "code",
      "execution_count": 46,
      "metadata": {
        "colab": {
          "base_uri": "https://localhost:8080/",
          "height": 320
        },
        "id": "xdiwiyeEZpPd",
        "outputId": "b5e95f4b-4670-4f7d-e145-6a8c8799e4a0"
      },
      "outputs": [
        {
          "data": {
            "text/html": [
              "<div>\n",
              "<style scoped>\n",
              "    .dataframe tbody tr th:only-of-type {\n",
              "        vertical-align: middle;\n",
              "    }\n",
              "\n",
              "    .dataframe tbody tr th {\n",
              "        vertical-align: top;\n",
              "    }\n",
              "\n",
              "    .dataframe thead th {\n",
              "        text-align: right;\n",
              "    }\n",
              "</style>\n",
              "<table border=\"1\" class=\"dataframe\">\n",
              "  <thead>\n",
              "    <tr style=\"text-align: right;\">\n",
              "      <th></th>\n",
              "      <th>instant</th>\n",
              "      <th>season</th>\n",
              "      <th>yr</th>\n",
              "      <th>mnth</th>\n",
              "      <th>hr</th>\n",
              "      <th>holiday</th>\n",
              "      <th>weekday</th>\n",
              "      <th>workingday</th>\n",
              "      <th>weathersit</th>\n",
              "      <th>temp</th>\n",
              "      <th>atemp</th>\n",
              "      <th>hum</th>\n",
              "      <th>windspeed</th>\n",
              "      <th>casual</th>\n",
              "      <th>registered</th>\n",
              "      <th>cnt</th>\n",
              "    </tr>\n",
              "  </thead>\n",
              "  <tbody>\n",
              "    <tr>\n",
              "      <th>count</th>\n",
              "      <td>17379.0000</td>\n",
              "      <td>17379.000000</td>\n",
              "      <td>17379.000000</td>\n",
              "      <td>17379.000000</td>\n",
              "      <td>17379.000000</td>\n",
              "      <td>17379.000000</td>\n",
              "      <td>17379.000000</td>\n",
              "      <td>17379.000000</td>\n",
              "      <td>17379.000000</td>\n",
              "      <td>17379.000000</td>\n",
              "      <td>17379.000000</td>\n",
              "      <td>17379.000000</td>\n",
              "      <td>17379.000000</td>\n",
              "      <td>17379.000000</td>\n",
              "      <td>17379.000000</td>\n",
              "      <td>17379.000000</td>\n",
              "    </tr>\n",
              "    <tr>\n",
              "      <th>mean</th>\n",
              "      <td>8690.0000</td>\n",
              "      <td>2.501640</td>\n",
              "      <td>0.502561</td>\n",
              "      <td>6.537775</td>\n",
              "      <td>11.546752</td>\n",
              "      <td>0.028770</td>\n",
              "      <td>3.003683</td>\n",
              "      <td>0.682721</td>\n",
              "      <td>1.425283</td>\n",
              "      <td>0.496987</td>\n",
              "      <td>0.475775</td>\n",
              "      <td>0.627229</td>\n",
              "      <td>0.190098</td>\n",
              "      <td>35.676218</td>\n",
              "      <td>153.786869</td>\n",
              "      <td>189.463088</td>\n",
              "    </tr>\n",
              "    <tr>\n",
              "      <th>std</th>\n",
              "      <td>5017.0295</td>\n",
              "      <td>1.106918</td>\n",
              "      <td>0.500008</td>\n",
              "      <td>3.438776</td>\n",
              "      <td>6.914405</td>\n",
              "      <td>0.167165</td>\n",
              "      <td>2.005771</td>\n",
              "      <td>0.465431</td>\n",
              "      <td>0.639357</td>\n",
              "      <td>0.192556</td>\n",
              "      <td>0.171850</td>\n",
              "      <td>0.192930</td>\n",
              "      <td>0.122340</td>\n",
              "      <td>49.305030</td>\n",
              "      <td>151.357286</td>\n",
              "      <td>181.387599</td>\n",
              "    </tr>\n",
              "    <tr>\n",
              "      <th>min</th>\n",
              "      <td>1.0000</td>\n",
              "      <td>1.000000</td>\n",
              "      <td>0.000000</td>\n",
              "      <td>1.000000</td>\n",
              "      <td>0.000000</td>\n",
              "      <td>0.000000</td>\n",
              "      <td>0.000000</td>\n",
              "      <td>0.000000</td>\n",
              "      <td>1.000000</td>\n",
              "      <td>0.020000</td>\n",
              "      <td>0.000000</td>\n",
              "      <td>0.000000</td>\n",
              "      <td>0.000000</td>\n",
              "      <td>0.000000</td>\n",
              "      <td>0.000000</td>\n",
              "      <td>1.000000</td>\n",
              "    </tr>\n",
              "    <tr>\n",
              "      <th>25%</th>\n",
              "      <td>4345.5000</td>\n",
              "      <td>2.000000</td>\n",
              "      <td>0.000000</td>\n",
              "      <td>4.000000</td>\n",
              "      <td>6.000000</td>\n",
              "      <td>0.000000</td>\n",
              "      <td>1.000000</td>\n",
              "      <td>0.000000</td>\n",
              "      <td>1.000000</td>\n",
              "      <td>0.340000</td>\n",
              "      <td>0.333300</td>\n",
              "      <td>0.480000</td>\n",
              "      <td>0.104500</td>\n",
              "      <td>4.000000</td>\n",
              "      <td>34.000000</td>\n",
              "      <td>40.000000</td>\n",
              "    </tr>\n",
              "    <tr>\n",
              "      <th>50%</th>\n",
              "      <td>8690.0000</td>\n",
              "      <td>3.000000</td>\n",
              "      <td>1.000000</td>\n",
              "      <td>7.000000</td>\n",
              "      <td>12.000000</td>\n",
              "      <td>0.000000</td>\n",
              "      <td>3.000000</td>\n",
              "      <td>1.000000</td>\n",
              "      <td>1.000000</td>\n",
              "      <td>0.500000</td>\n",
              "      <td>0.484800</td>\n",
              "      <td>0.630000</td>\n",
              "      <td>0.194000</td>\n",
              "      <td>17.000000</td>\n",
              "      <td>115.000000</td>\n",
              "      <td>142.000000</td>\n",
              "    </tr>\n",
              "    <tr>\n",
              "      <th>75%</th>\n",
              "      <td>13034.5000</td>\n",
              "      <td>3.000000</td>\n",
              "      <td>1.000000</td>\n",
              "      <td>10.000000</td>\n",
              "      <td>18.000000</td>\n",
              "      <td>0.000000</td>\n",
              "      <td>5.000000</td>\n",
              "      <td>1.000000</td>\n",
              "      <td>2.000000</td>\n",
              "      <td>0.660000</td>\n",
              "      <td>0.621200</td>\n",
              "      <td>0.780000</td>\n",
              "      <td>0.253700</td>\n",
              "      <td>48.000000</td>\n",
              "      <td>220.000000</td>\n",
              "      <td>281.000000</td>\n",
              "    </tr>\n",
              "    <tr>\n",
              "      <th>max</th>\n",
              "      <td>17379.0000</td>\n",
              "      <td>4.000000</td>\n",
              "      <td>1.000000</td>\n",
              "      <td>12.000000</td>\n",
              "      <td>23.000000</td>\n",
              "      <td>1.000000</td>\n",
              "      <td>6.000000</td>\n",
              "      <td>1.000000</td>\n",
              "      <td>4.000000</td>\n",
              "      <td>1.000000</td>\n",
              "      <td>1.000000</td>\n",
              "      <td>1.000000</td>\n",
              "      <td>0.850700</td>\n",
              "      <td>367.000000</td>\n",
              "      <td>886.000000</td>\n",
              "      <td>977.000000</td>\n",
              "    </tr>\n",
              "  </tbody>\n",
              "</table>\n",
              "</div>"
            ],
            "text/plain": [
              "          instant        season            yr          mnth            hr  \\\n",
              "count  17379.0000  17379.000000  17379.000000  17379.000000  17379.000000   \n",
              "mean    8690.0000      2.501640      0.502561      6.537775     11.546752   \n",
              "std     5017.0295      1.106918      0.500008      3.438776      6.914405   \n",
              "min        1.0000      1.000000      0.000000      1.000000      0.000000   \n",
              "25%     4345.5000      2.000000      0.000000      4.000000      6.000000   \n",
              "50%     8690.0000      3.000000      1.000000      7.000000     12.000000   \n",
              "75%    13034.5000      3.000000      1.000000     10.000000     18.000000   \n",
              "max    17379.0000      4.000000      1.000000     12.000000     23.000000   \n",
              "\n",
              "            holiday       weekday    workingday    weathersit          temp  \\\n",
              "count  17379.000000  17379.000000  17379.000000  17379.000000  17379.000000   \n",
              "mean       0.028770      3.003683      0.682721      1.425283      0.496987   \n",
              "std        0.167165      2.005771      0.465431      0.639357      0.192556   \n",
              "min        0.000000      0.000000      0.000000      1.000000      0.020000   \n",
              "25%        0.000000      1.000000      0.000000      1.000000      0.340000   \n",
              "50%        0.000000      3.000000      1.000000      1.000000      0.500000   \n",
              "75%        0.000000      5.000000      1.000000      2.000000      0.660000   \n",
              "max        1.000000      6.000000      1.000000      4.000000      1.000000   \n",
              "\n",
              "              atemp           hum     windspeed        casual    registered  \\\n",
              "count  17379.000000  17379.000000  17379.000000  17379.000000  17379.000000   \n",
              "mean       0.475775      0.627229      0.190098     35.676218    153.786869   \n",
              "std        0.171850      0.192930      0.122340     49.305030    151.357286   \n",
              "min        0.000000      0.000000      0.000000      0.000000      0.000000   \n",
              "25%        0.333300      0.480000      0.104500      4.000000     34.000000   \n",
              "50%        0.484800      0.630000      0.194000     17.000000    115.000000   \n",
              "75%        0.621200      0.780000      0.253700     48.000000    220.000000   \n",
              "max        1.000000      1.000000      0.850700    367.000000    886.000000   \n",
              "\n",
              "                cnt  \n",
              "count  17379.000000  \n",
              "mean     189.463088  \n",
              "std      181.387599  \n",
              "min        1.000000  \n",
              "25%       40.000000  \n",
              "50%      142.000000  \n",
              "75%      281.000000  \n",
              "max      977.000000  "
            ]
          },
          "execution_count": 46,
          "metadata": {},
          "output_type": "execute_result"
        }
      ],
      "source": [
        "hour_df.describe()"
      ]
    },
    {
      "cell_type": "markdown",
      "metadata": {},
      "source": [
        "**Insight:**\n",
        "- Pada data hour_df juga tidak terdapat missing values dari 731 data dan tidak ada data yang duplikasi.\n",
        "- Sama seperti data day_df, data hour_df juga perlu ada penyesuaian tipe data pada beberapa variabel seperti variabel dteday yang bertipe data object namun seharusnya datetime. Selain itu terdapat variabel lain seperti season, holiday, workingday, weathershit yang seharusnya termasuk data kategorik.\n",
        "- Rata-rata penyewaan 189 sepeda per jam, dengan jumlah terbanyak sebesar 977 sepeda per jam dan jumlah tersedikit sebesar 1 sepeda per jam."
      ]
    },
    {
      "cell_type": "markdown",
      "metadata": {
        "id": "EhN5R4hr8DC1"
      },
      "source": [
        "### Cleaning Data"
      ]
    },
    {
      "cell_type": "markdown",
      "metadata": {},
      "source": [
        "**Cleaning Data day_df**\n",
        "1. Mengubah variabel dteday menjadi tipe data dtime"
      ]
    },
    {
      "cell_type": "code",
      "execution_count": 47,
      "metadata": {},
      "outputs": [],
      "source": [
        "day_df['dteday'] = pd.to_datetime(day_df['dteday'])"
      ]
    },
    {
      "cell_type": "markdown",
      "metadata": {},
      "source": [
        "2. Mengubah variabel season, year, mnth, holiday, workingday, dan weathersit menjadi tipe data kategorik"
      ]
    },
    {
      "cell_type": "code",
      "execution_count": 48,
      "metadata": {
        "id": "jVnYpprE9Evz"
      },
      "outputs": [],
      "source": [
        "kategori_cols = ['season', 'yr', 'mnth', 'holiday', 'weekday', 'workingday', 'weathersit']\n",
        "day_df[kategori_cols] = day_df[kategori_cols].astype('category')"
      ]
    },
    {
      "cell_type": "markdown",
      "metadata": {},
      "source": [
        "3. Menghapus variabel instant karena merupakan urutan data dan tidak berpengaruh terhadap analisis"
      ]
    },
    {
      "cell_type": "code",
      "execution_count": 49,
      "metadata": {},
      "outputs": [],
      "source": [
        "day_df.drop(columns=['instant'], inplace=True)"
      ]
    },
    {
      "cell_type": "code",
      "execution_count": 50,
      "metadata": {},
      "outputs": [
        {
          "name": "stdout",
          "output_type": "stream",
          "text": [
            "<class 'pandas.core.frame.DataFrame'>\n",
            "RangeIndex: 731 entries, 0 to 730\n",
            "Data columns (total 15 columns):\n",
            " #   Column      Non-Null Count  Dtype         \n",
            "---  ------      --------------  -----         \n",
            " 0   dteday      731 non-null    datetime64[ns]\n",
            " 1   season      731 non-null    category      \n",
            " 2   yr          731 non-null    category      \n",
            " 3   mnth        731 non-null    category      \n",
            " 4   holiday     731 non-null    category      \n",
            " 5   weekday     731 non-null    category      \n",
            " 6   workingday  731 non-null    category      \n",
            " 7   weathersit  731 non-null    category      \n",
            " 8   temp        731 non-null    float64       \n",
            " 9   atemp       731 non-null    float64       \n",
            " 10  hum         731 non-null    float64       \n",
            " 11  windspeed   731 non-null    float64       \n",
            " 12  casual      731 non-null    int64         \n",
            " 13  registered  731 non-null    int64         \n",
            " 14  cnt         731 non-null    int64         \n",
            "dtypes: category(7), datetime64[ns](1), float64(4), int64(3)\n",
            "memory usage: 52.2 KB\n"
          ]
        }
      ],
      "source": [
        "day_df.info()"
      ]
    },
    {
      "cell_type": "code",
      "execution_count": 70,
      "metadata": {},
      "outputs": [
        {
          "data": {
            "image/png": "[encoded data removed]",
            "text/plain": [
              "<Figure size 1000x600 with 2 Axes>"
            ]
          },
          "metadata": {},
          "output_type": "display_data"
        }
      ],
      "source": [
        "corr_columns = [\"cnt\", \"temp\", \"atemp\", \"hum\", \"windspeed\"]\n",
        "\n",
        "correlation_matrix = day_df[corr_columns].corr()\n",
        "plt.figure(figsize=(10, 6))\n",
        "sns.heatmap(correlation_matrix, annot=True, cmap=\"coolwarm\", fmt=\".2f\", linewidths=0.5)\n",
        "\n",
        "plt.title(\"Korelasi antara Jumlah Penyewaan Sepeda dan Variabel Lainnya\", fontsize=14)\n",
        "\n",
        "plt.show()"
      ]
    },
    {
      "cell_type": "markdown",
      "metadata": {},
      "source": [
        "**Insight:**\n",
        "- Berdasarkan heatmap korelasi dari data day_df di atas, jumlah penyewaan sepeda memiliki korelasi positif sedang dengan temp dan atemp yaitu sebesar 0,63. Artinya semakin hangat suhu udara, semakin banyak orang yang menyewa sepeda. Dalam hal ini dapat dikatakan bahwa kenyamanan suhu cukup berperan dalam peningkatan jumlah sepeda.\n",
        "- Jumlah penyewaan sepeda terhadap kelembaban dan kecepatan angin memiliki korelasi negatif, yaitu sebesar -0.10 terhadap kelembaban dan -0.23 terhadap kecapatan angin. Artinya semakin tinggi kelembaban dan kecepatan angin, semakin sedikit penyewaan sepeda."
      ]
    },
    {
      "cell_type": "markdown",
      "metadata": {},
      "source": [
        "**Cleaning Data hour_df**\n",
        "1. Mengubah variabel dteday menjadi tipe data dtime"
      ]
    },
    {
      "cell_type": "code",
      "execution_count": 51,
      "metadata": {},
      "outputs": [],
      "source": [
        "hour_df['dteday'] = pd.to_datetime(hour_df['dteday'])"
      ]
    },
    {
      "cell_type": "markdown",
      "metadata": {},
      "source": [
        "2. Mengubah variabel season, year, mnth, hr, holiday, workingday, dan weathersit menjadi tipe data kategorik"
      ]
    },
    {
      "cell_type": "code",
      "execution_count": 52,
      "metadata": {},
      "outputs": [],
      "source": [
        "kategori_cols = ['season', 'yr', 'mnth', 'hr', 'holiday', 'weekday', 'workingday', 'weathersit']\n",
        "hour_df[kategori_cols] = hour_df[kategori_cols].astype('category')"
      ]
    },
    {
      "cell_type": "markdown",
      "metadata": {},
      "source": [
        "3. Menghapus variabel instant karena merupakan urutan data dan tidak berpengaruh terhadap analisis"
      ]
    },
    {
      "cell_type": "code",
      "execution_count": 53,
      "metadata": {},
      "outputs": [],
      "source": [
        "hour_df.drop(columns=['instant'], inplace=True)"
      ]
    },
    {
      "cell_type": "code",
      "execution_count": 54,
      "metadata": {},
      "outputs": [
        {
          "name": "stdout",
          "output_type": "stream",
          "text": [
            "<class 'pandas.core.frame.DataFrame'>\n",
            "RangeIndex: 17379 entries, 0 to 17378\n",
            "Data columns (total 16 columns):\n",
            " #   Column      Non-Null Count  Dtype         \n",
            "---  ------      --------------  -----         \n",
            " 0   dteday      17379 non-null  datetime64[ns]\n",
            " 1   season      17379 non-null  category      \n",
            " 2   yr          17379 non-null  category      \n",
            " 3   mnth        17379 non-null  category      \n",
            " 4   hr          17379 non-null  category      \n",
            " 5   holiday     17379 non-null  category      \n",
            " 6   weekday     17379 non-null  category      \n",
            " 7   workingday  17379 non-null  category      \n",
            " 8   weathersit  17379 non-null  category      \n",
            " 9   temp        17379 non-null  float64       \n",
            " 10  atemp       17379 non-null  float64       \n",
            " 11  hum         17379 non-null  float64       \n",
            " 12  windspeed   17379 non-null  float64       \n",
            " 13  casual      17379 non-null  int64         \n",
            " 14  registered  17379 non-null  int64         \n",
            " 15  cnt         17379 non-null  int64         \n",
            "dtypes: category(8), datetime64[ns](1), float64(4), int64(3)\n",
            "memory usage: 1.2 MB\n"
          ]
        }
      ],
      "source": [
        "hour_df.info()"
      ]
    },
    {
      "cell_type": "markdown",
      "metadata": {},
      "source": [
        "**Insight:**\n",
        "- Pada data day_df dan hour_df, tipe data sudah dirubah dan disesuikan berdasarkan data yang ada\n",
        "- Pada kedua data, variabel instant dihapus karena tidak memiliki pengaruh terhadap analisa data"
      ]
    },
    {
      "cell_type": "code",
      "execution_count": 71,
      "metadata": {},
      "outputs": [
        {
          "data": {
            "image/png": "[encoded data removed]",
            "text/plain": [
              "<Figure size 1000x600 with 2 Axes>"
            ]
          },
          "metadata": {},
          "output_type": "display_data"
        }
      ],
      "source": [
        "corr_columns = [\"cnt\", \"temp\", \"atemp\", \"hum\", \"windspeed\"]\n",
        "\n",
        "correlation_matrix = hour_df[corr_columns].corr()\n",
        "plt.figure(figsize=(10, 6))\n",
        "sns.heatmap(correlation_matrix, annot=True, cmap=\"coolwarm\", fmt=\".2f\", linewidths=0.5)\n",
        "\n",
        "plt.title(\"Korelasi antara Jumlah Penyewaan Sepeda dan Variabel Lainnya\", fontsize=14)\n",
        "\n",
        "plt.show()"
      ]
    },
    {
      "cell_type": "markdown",
      "metadata": {},
      "source": [
        "**Insight:**\n",
        "- Berdasarkan heatmap korelasi dari data hour_df di atas, jumlah penyewaan sepeda memiliki korelasi positif sedang dengan temp dan atemp yaitu sebesar 0.40. Artinya semakin hangat suhu udara, semakin banyak orang yang menyewa sepeda. Dalam hal ini dapat dikatakan bahwa kenyamanan suhu cukup berperan dalam peningkatan jumlah sepeda.\n",
        "- Jumlah penyewaan terhadap kecepatan angin juga memiliki korelasi positif, namun hanya sebesar 0.09. Artinya semakin tinggi kecepatan angin, maka semakin banyak orang yang menyewa sepeda.\n",
        "- Jumlah penyewaan sepeda terhadap kelembaban memiliki korelasi negatif, yaitu sebesar -0.32. Artinya semakin tinggi kelembaban, maka semakin sedikit penyewaan sepeda."
      ]
    },
    {
      "cell_type": "markdown",
      "metadata": {
        "id": "gp-Y6wU38DC1"
      },
      "source": [
        "## Exploratory Data Analysis (EDA)"
      ]
    },
    {
      "cell_type": "markdown",
      "metadata": {
        "id": "MW7WF2kr8DC1"
      },
      "source": [
        "### Explore data day_df"
      ]
    },
    {
      "cell_type": "code",
      "execution_count": 56,
      "metadata": {
        "id": "e9CQCZjk8DC2"
      },
      "outputs": [
        {
          "data": {
            "text/html": [
              "<div>\n",
              "<style scoped>\n",
              "    .dataframe tbody tr th:only-of-type {\n",
              "        vertical-align: middle;\n",
              "    }\n",
              "\n",
              "    .dataframe tbody tr th {\n",
              "        vertical-align: top;\n",
              "    }\n",
              "\n",
              "    .dataframe thead th {\n",
              "        text-align: right;\n",
              "    }\n",
              "</style>\n",
              "<table border=\"1\" class=\"dataframe\">\n",
              "  <thead>\n",
              "    <tr style=\"text-align: right;\">\n",
              "      <th></th>\n",
              "      <th>dteday</th>\n",
              "      <th>season</th>\n",
              "      <th>yr</th>\n",
              "      <th>mnth</th>\n",
              "      <th>holiday</th>\n",
              "      <th>weekday</th>\n",
              "      <th>workingday</th>\n",
              "      <th>weathersit</th>\n",
              "      <th>temp</th>\n",
              "      <th>atemp</th>\n",
              "      <th>hum</th>\n",
              "      <th>windspeed</th>\n",
              "      <th>casual</th>\n",
              "      <th>registered</th>\n",
              "      <th>cnt</th>\n",
              "    </tr>\n",
              "  </thead>\n",
              "  <tbody>\n",
              "    <tr>\n",
              "      <th>count</th>\n",
              "      <td>731</td>\n",
              "      <td>731.0</td>\n",
              "      <td>731.0</td>\n",
              "      <td>731.0</td>\n",
              "      <td>731.0</td>\n",
              "      <td>731.0</td>\n",
              "      <td>731.0</td>\n",
              "      <td>731.0</td>\n",
              "      <td>731.000000</td>\n",
              "      <td>731.000000</td>\n",
              "      <td>731.000000</td>\n",
              "      <td>731.000000</td>\n",
              "      <td>731.000000</td>\n",
              "      <td>731.000000</td>\n",
              "      <td>731.000000</td>\n",
              "    </tr>\n",
              "    <tr>\n",
              "      <th>unique</th>\n",
              "      <td>NaN</td>\n",
              "      <td>4.0</td>\n",
              "      <td>2.0</td>\n",
              "      <td>12.0</td>\n",
              "      <td>2.0</td>\n",
              "      <td>7.0</td>\n",
              "      <td>2.0</td>\n",
              "      <td>3.0</td>\n",
              "      <td>NaN</td>\n",
              "      <td>NaN</td>\n",
              "      <td>NaN</td>\n",
              "      <td>NaN</td>\n",
              "      <td>NaN</td>\n",
              "      <td>NaN</td>\n",
              "      <td>NaN</td>\n",
              "    </tr>\n",
              "    <tr>\n",
              "      <th>top</th>\n",
              "      <td>NaN</td>\n",
              "      <td>3.0</td>\n",
              "      <td>1.0</td>\n",
              "      <td>1.0</td>\n",
              "      <td>0.0</td>\n",
              "      <td>0.0</td>\n",
              "      <td>1.0</td>\n",
              "      <td>1.0</td>\n",
              "      <td>NaN</td>\n",
              "      <td>NaN</td>\n",
              "      <td>NaN</td>\n",
              "      <td>NaN</td>\n",
              "      <td>NaN</td>\n",
              "      <td>NaN</td>\n",
              "      <td>NaN</td>\n",
              "    </tr>\n",
              "    <tr>\n",
              "      <th>freq</th>\n",
              "      <td>NaN</td>\n",
              "      <td>188.0</td>\n",
              "      <td>366.0</td>\n",
              "      <td>62.0</td>\n",
              "      <td>710.0</td>\n",
              "      <td>105.0</td>\n",
              "      <td>500.0</td>\n",
              "      <td>463.0</td>\n",
              "      <td>NaN</td>\n",
              "      <td>NaN</td>\n",
              "      <td>NaN</td>\n",
              "      <td>NaN</td>\n",
              "      <td>NaN</td>\n",
              "      <td>NaN</td>\n",
              "      <td>NaN</td>\n",
              "    </tr>\n",
              "    <tr>\n",
              "      <th>mean</th>\n",
              "      <td>2012-01-01 00:00:00</td>\n",
              "      <td>NaN</td>\n",
              "      <td>NaN</td>\n",
              "      <td>NaN</td>\n",
              "      <td>NaN</td>\n",
              "      <td>NaN</td>\n",
              "      <td>NaN</td>\n",
              "      <td>NaN</td>\n",
              "      <td>0.495385</td>\n",
              "      <td>0.474354</td>\n",
              "      <td>0.627894</td>\n",
              "      <td>0.190486</td>\n",
              "      <td>848.176471</td>\n",
              "      <td>3656.172367</td>\n",
              "      <td>4504.348837</td>\n",
              "    </tr>\n",
              "    <tr>\n",
              "      <th>min</th>\n",
              "      <td>2011-01-01 00:00:00</td>\n",
              "      <td>NaN</td>\n",
              "      <td>NaN</td>\n",
              "      <td>NaN</td>\n",
              "      <td>NaN</td>\n",
              "      <td>NaN</td>\n",
              "      <td>NaN</td>\n",
              "      <td>NaN</td>\n",
              "      <td>0.059130</td>\n",
              "      <td>0.079070</td>\n",
              "      <td>0.000000</td>\n",
              "      <td>0.022392</td>\n",
              "      <td>2.000000</td>\n",
              "      <td>20.000000</td>\n",
              "      <td>22.000000</td>\n",
              "    </tr>\n",
              "    <tr>\n",
              "      <th>25%</th>\n",
              "      <td>2011-07-02 12:00:00</td>\n",
              "      <td>NaN</td>\n",
              "      <td>NaN</td>\n",
              "      <td>NaN</td>\n",
              "      <td>NaN</td>\n",
              "      <td>NaN</td>\n",
              "      <td>NaN</td>\n",
              "      <td>NaN</td>\n",
              "      <td>0.337083</td>\n",
              "      <td>0.337842</td>\n",
              "      <td>0.520000</td>\n",
              "      <td>0.134950</td>\n",
              "      <td>315.500000</td>\n",
              "      <td>2497.000000</td>\n",
              "      <td>3152.000000</td>\n",
              "    </tr>\n",
              "    <tr>\n",
              "      <th>50%</th>\n",
              "      <td>2012-01-01 00:00:00</td>\n",
              "      <td>NaN</td>\n",
              "      <td>NaN</td>\n",
              "      <td>NaN</td>\n",
              "      <td>NaN</td>\n",
              "      <td>NaN</td>\n",
              "      <td>NaN</td>\n",
              "      <td>NaN</td>\n",
              "      <td>0.498333</td>\n",
              "      <td>0.486733</td>\n",
              "      <td>0.626667</td>\n",
              "      <td>0.180975</td>\n",
              "      <td>713.000000</td>\n",
              "      <td>3662.000000</td>\n",
              "      <td>4548.000000</td>\n",
              "    </tr>\n",
              "    <tr>\n",
              "      <th>75%</th>\n",
              "      <td>2012-07-01 12:00:00</td>\n",
              "      <td>NaN</td>\n",
              "      <td>NaN</td>\n",
              "      <td>NaN</td>\n",
              "      <td>NaN</td>\n",
              "      <td>NaN</td>\n",
              "      <td>NaN</td>\n",
              "      <td>NaN</td>\n",
              "      <td>0.655417</td>\n",
              "      <td>0.608602</td>\n",
              "      <td>0.730209</td>\n",
              "      <td>0.233214</td>\n",
              "      <td>1096.000000</td>\n",
              "      <td>4776.500000</td>\n",
              "      <td>5956.000000</td>\n",
              "    </tr>\n",
              "    <tr>\n",
              "      <th>max</th>\n",
              "      <td>2012-12-31 00:00:00</td>\n",
              "      <td>NaN</td>\n",
              "      <td>NaN</td>\n",
              "      <td>NaN</td>\n",
              "      <td>NaN</td>\n",
              "      <td>NaN</td>\n",
              "      <td>NaN</td>\n",
              "      <td>NaN</td>\n",
              "      <td>0.861667</td>\n",
              "      <td>0.840896</td>\n",
              "      <td>0.972500</td>\n",
              "      <td>0.507463</td>\n",
              "      <td>3410.000000</td>\n",
              "      <td>6946.000000</td>\n",
              "      <td>8714.000000</td>\n",
              "    </tr>\n",
              "    <tr>\n",
              "      <th>std</th>\n",
              "      <td>NaN</td>\n",
              "      <td>NaN</td>\n",
              "      <td>NaN</td>\n",
              "      <td>NaN</td>\n",
              "      <td>NaN</td>\n",
              "      <td>NaN</td>\n",
              "      <td>NaN</td>\n",
              "      <td>NaN</td>\n",
              "      <td>0.183051</td>\n",
              "      <td>0.162961</td>\n",
              "      <td>0.142429</td>\n",
              "      <td>0.077498</td>\n",
              "      <td>686.622488</td>\n",
              "      <td>1560.256377</td>\n",
              "      <td>1937.211452</td>\n",
              "    </tr>\n",
              "  </tbody>\n",
              "</table>\n",
              "</div>"
            ],
            "text/plain": [
              "                     dteday  season     yr   mnth  holiday  weekday  \\\n",
              "count                   731   731.0  731.0  731.0    731.0    731.0   \n",
              "unique                  NaN     4.0    2.0   12.0      2.0      7.0   \n",
              "top                     NaN     3.0    1.0    1.0      0.0      0.0   \n",
              "freq                    NaN   188.0  366.0   62.0    710.0    105.0   \n",
              "mean    2012-01-01 00:00:00     NaN    NaN    NaN      NaN      NaN   \n",
              "min     2011-01-01 00:00:00     NaN    NaN    NaN      NaN      NaN   \n",
              "25%     2011-07-02 12:00:00     NaN    NaN    NaN      NaN      NaN   \n",
              "50%     2012-01-01 00:00:00     NaN    NaN    NaN      NaN      NaN   \n",
              "75%     2012-07-01 12:00:00     NaN    NaN    NaN      NaN      NaN   \n",
              "max     2012-12-31 00:00:00     NaN    NaN    NaN      NaN      NaN   \n",
              "std                     NaN     NaN    NaN    NaN      NaN      NaN   \n",
              "\n",
              "        workingday  weathersit        temp       atemp         hum  \\\n",
              "count        731.0       731.0  731.000000  731.000000  731.000000   \n",
              "unique         2.0         3.0         NaN         NaN         NaN   \n",
              "top            1.0         1.0         NaN         NaN         NaN   \n",
              "freq         500.0       463.0         NaN         NaN         NaN   \n",
              "mean           NaN         NaN    0.495385    0.474354    0.627894   \n",
              "min            NaN         NaN    0.059130    0.079070    0.000000   \n",
              "25%            NaN         NaN    0.337083    0.337842    0.520000   \n",
              "50%            NaN         NaN    0.498333    0.486733    0.626667   \n",
              "75%            NaN         NaN    0.655417    0.608602    0.730209   \n",
              "max            NaN         NaN    0.861667    0.840896    0.972500   \n",
              "std            NaN         NaN    0.183051    0.162961    0.142429   \n",
              "\n",
              "         windspeed       casual   registered          cnt  \n",
              "count   731.000000   731.000000   731.000000   731.000000  \n",
              "unique         NaN          NaN          NaN          NaN  \n",
              "top            NaN          NaN          NaN          NaN  \n",
              "freq           NaN          NaN          NaN          NaN  \n",
              "mean      0.190486   848.176471  3656.172367  4504.348837  \n",
              "min       0.022392     2.000000    20.000000    22.000000  \n",
              "25%       0.134950   315.500000  2497.000000  3152.000000  \n",
              "50%       0.180975   713.000000  3662.000000  4548.000000  \n",
              "75%       0.233214  1096.000000  4776.500000  5956.000000  \n",
              "max       0.507463  3410.000000  6946.000000  8714.000000  \n",
              "std       0.077498   686.622488  1560.256377  1937.211452  "
            ]
          },
          "execution_count": 56,
          "metadata": {},
          "output_type": "execute_result"
        }
      ],
      "source": [
        "day_df.describe(include=\"all\")"
      ]
    },
    {
      "cell_type": "markdown",
      "metadata": {},
      "source": [
        "**Insight:**\n",
        "- Dari data day_df dapat dilihat bahwa dari 4 musim, yaitu musim semi, panas, gugur, dan salju. Pada musim ketiga atau fall adalah yang paling sering muncul sebanyak 188 kali yang artinya musim ini lebih dominan dibandingkan dengan musim lainnya.\n",
        "- Dari variabel weathershit atau kondisi cuaca, kondisi 1, yaitu cuaca cerah/berawan (Clear, Few clouds, Partly cloudy, Partly cloudy) terjadi sebanyak 463 kali, sehingga cuaca paling dominan adalah cuaca cerah."
      ]
    },
    {
      "cell_type": "markdown",
      "metadata": {},
      "source": [
        "**Mengelompokkan data berdasarkan cuaca dan musim**"
      ]
    },
    {
      "cell_type": "code",
      "execution_count": 57,
      "metadata": {},
      "outputs": [
        {
          "name": "stderr",
          "output_type": "stream",
          "text": [
            "/var/folders/m2/f0dmk8qn71593x9d7n6nlxl00000gn/T/ipykernel_22055/1849416766.py:1: FutureWarning: The default of observed=False is deprecated and will be changed to True in a future version of pandas. Pass observed=False to retain current behavior or observed=True to adopt the future default and silence this warning.\n",
            "  day_df.groupby(by=[\"season\"]).agg({\n"
          ]
        },
        {
          "data": {
            "text/html": [
              "<div>\n",
              "<style scoped>\n",
              "    .dataframe tbody tr th:only-of-type {\n",
              "        vertical-align: middle;\n",
              "    }\n",
              "\n",
              "    .dataframe tbody tr th {\n",
              "        vertical-align: top;\n",
              "    }\n",
              "\n",
              "    .dataframe thead tr th {\n",
              "        text-align: left;\n",
              "    }\n",
              "\n",
              "    .dataframe thead tr:last-of-type th {\n",
              "        text-align: right;\n",
              "    }\n",
              "</style>\n",
              "<table border=\"1\" class=\"dataframe\">\n",
              "  <thead>\n",
              "    <tr>\n",
              "      <th></th>\n",
              "      <th colspan=\"5\" halign=\"left\">cnt</th>\n",
              "    </tr>\n",
              "    <tr>\n",
              "      <th></th>\n",
              "      <th>sum</th>\n",
              "      <th>mean</th>\n",
              "      <th>max</th>\n",
              "      <th>min</th>\n",
              "      <th>std</th>\n",
              "    </tr>\n",
              "    <tr>\n",
              "      <th>season</th>\n",
              "      <th></th>\n",
              "      <th></th>\n",
              "      <th></th>\n",
              "      <th></th>\n",
              "      <th></th>\n",
              "    </tr>\n",
              "  </thead>\n",
              "  <tbody>\n",
              "    <tr>\n",
              "      <th>1</th>\n",
              "      <td>471348</td>\n",
              "      <td>2604.132597</td>\n",
              "      <td>7836</td>\n",
              "      <td>431</td>\n",
              "      <td>1399.942119</td>\n",
              "    </tr>\n",
              "    <tr>\n",
              "      <th>2</th>\n",
              "      <td>918589</td>\n",
              "      <td>4992.331522</td>\n",
              "      <td>8362</td>\n",
              "      <td>795</td>\n",
              "      <td>1695.977235</td>\n",
              "    </tr>\n",
              "    <tr>\n",
              "      <th>3</th>\n",
              "      <td>1061129</td>\n",
              "      <td>5644.303191</td>\n",
              "      <td>8714</td>\n",
              "      <td>1115</td>\n",
              "      <td>1459.800381</td>\n",
              "    </tr>\n",
              "    <tr>\n",
              "      <th>4</th>\n",
              "      <td>841613</td>\n",
              "      <td>4728.162921</td>\n",
              "      <td>8555</td>\n",
              "      <td>22</td>\n",
              "      <td>1699.615261</td>\n",
              "    </tr>\n",
              "  </tbody>\n",
              "</table>\n",
              "</div>"
            ],
            "text/plain": [
              "            cnt                                      \n",
              "            sum         mean   max   min          std\n",
              "season                                               \n",
              "1        471348  2604.132597  7836   431  1399.942119\n",
              "2        918589  4992.331522  8362   795  1695.977235\n",
              "3       1061129  5644.303191  8714  1115  1459.800381\n",
              "4        841613  4728.162921  8555    22  1699.615261"
            ]
          },
          "execution_count": 57,
          "metadata": {},
          "output_type": "execute_result"
        }
      ],
      "source": [
        "day_df.groupby(by=[\"season\"]).agg({\n",
        "    \"cnt\": [\"sum\", \"mean\", \"max\", \"min\", \"std\"]\n",
        "})"
      ]
    },
    {
      "cell_type": "markdown",
      "metadata": {
        "id": "th_Lzl2Fkj9O"
      },
      "source": [
        "**Insight:**\n",
        "- Dari tabel jumlah penyewaan sepeda berdasarkan musim, penyewaan tertinggi terdapat pada saat musim gugur (season 3), yaitu sebesar 1.061.129 sepeda. Dengan rata-rata penyewaan sebesar 5.644 sepeda/hari. Penyewaan harian terbanyak adalah sebesar 8.714 sepeda dalam sehari.\n",
        "- Selain musim gugur, musim panas memiliki tingkat penyewaan tertinggi kedua, yaitu sebesar 918.589 sepeda. Dengan rata-rata penyewaan sebesar 4.992 sepeda/hari.\n",
        "- Musim dengan penyewaan terendah adalah pada saat musim semi, yaitu sebesar 471.348 sepeda. Dengan rata-rata penyewaan sebesar 2.604 sepeda/hari.\n",
        "- Pada musim dingin (season 4) terjadapat hari dengan penyewaan terendah, yaitu sebesar 22 sepeda."
      ]
    },
    {
      "cell_type": "code",
      "execution_count": 58,
      "metadata": {},
      "outputs": [
        {
          "name": "stderr",
          "output_type": "stream",
          "text": [
            "/var/folders/m2/f0dmk8qn71593x9d7n6nlxl00000gn/T/ipykernel_22055/520161659.py:1: FutureWarning: The default of observed=False is deprecated and will be changed to True in a future version of pandas. Pass observed=False to retain current behavior or observed=True to adopt the future default and silence this warning.\n",
            "  day_df.groupby(by=\"weathersit\").agg({\n"
          ]
        },
        {
          "data": {
            "text/html": [
              "<div>\n",
              "<style scoped>\n",
              "    .dataframe tbody tr th:only-of-type {\n",
              "        vertical-align: middle;\n",
              "    }\n",
              "\n",
              "    .dataframe tbody tr th {\n",
              "        vertical-align: top;\n",
              "    }\n",
              "\n",
              "    .dataframe thead tr th {\n",
              "        text-align: left;\n",
              "    }\n",
              "\n",
              "    .dataframe thead tr:last-of-type th {\n",
              "        text-align: right;\n",
              "    }\n",
              "</style>\n",
              "<table border=\"1\" class=\"dataframe\">\n",
              "  <thead>\n",
              "    <tr>\n",
              "      <th></th>\n",
              "      <th colspan=\"5\" halign=\"left\">cnt</th>\n",
              "    </tr>\n",
              "    <tr>\n",
              "      <th></th>\n",
              "      <th>sum</th>\n",
              "      <th>mean</th>\n",
              "      <th>max</th>\n",
              "      <th>min</th>\n",
              "      <th>std</th>\n",
              "    </tr>\n",
              "    <tr>\n",
              "      <th>weathersit</th>\n",
              "      <th></th>\n",
              "      <th></th>\n",
              "      <th></th>\n",
              "      <th></th>\n",
              "      <th></th>\n",
              "    </tr>\n",
              "  </thead>\n",
              "  <tbody>\n",
              "    <tr>\n",
              "      <th>1</th>\n",
              "      <td>2257952</td>\n",
              "      <td>4876.786177</td>\n",
              "      <td>8714</td>\n",
              "      <td>431</td>\n",
              "      <td>1879.483989</td>\n",
              "    </tr>\n",
              "    <tr>\n",
              "      <th>2</th>\n",
              "      <td>996858</td>\n",
              "      <td>4035.862348</td>\n",
              "      <td>8362</td>\n",
              "      <td>605</td>\n",
              "      <td>1809.109918</td>\n",
              "    </tr>\n",
              "    <tr>\n",
              "      <th>3</th>\n",
              "      <td>37869</td>\n",
              "      <td>1803.285714</td>\n",
              "      <td>4639</td>\n",
              "      <td>22</td>\n",
              "      <td>1240.284449</td>\n",
              "    </tr>\n",
              "  </tbody>\n",
              "</table>\n",
              "</div>"
            ],
            "text/plain": [
              "                cnt                                     \n",
              "                sum         mean   max  min          std\n",
              "weathersit                                              \n",
              "1           2257952  4876.786177  8714  431  1879.483989\n",
              "2            996858  4035.862348  8362  605  1809.109918\n",
              "3             37869  1803.285714  4639   22  1240.284449"
            ]
          },
          "execution_count": 58,
          "metadata": {},
          "output_type": "execute_result"
        }
      ],
      "source": [
        "day_df.groupby(by=\"weathersit\").agg({\n",
        "    \"cnt\": [\"sum\", \"mean\", \"max\", \"min\", \"std\"]\n",
        "})\n"
      ]
    },
    {
      "cell_type": "markdown",
      "metadata": {},
      "source": [
        "**Insight:**\n",
        "- Dari tabel jumlah penyewaan sepeda berdasarkan cuaca, penyewaan tertinggi terdapat pada saat cuaca cerah, yaitu sebesar 2.257.952 sepeda. Dengan rata-rata penyewaan sebesar 4.876 sepeda/hari. Jumlah penyewaan terbanyak pada cuaca cerah adalah sebesar 8.714 sepeda.\n",
        "- Sedangkan cuaca dengan penyewaan terendah adalah pada saat cuaca cukup buruk (hujan ringan dengan badai petir dan awan tersebar, salju ringan), yaitu sebesar 37.869 sepeda. Dengan rata-rata penyewaan sebesar 1.803 sepeda/hari. Dengan penyewaan terendah sebesar 22 sepeda dalam sehari."
      ]
    },
    {
      "cell_type": "markdown",
      "metadata": {},
      "source": [
        "**Mengelompkkan data berdasarkan hari kerja**"
      ]
    },
    {
      "cell_type": "code",
      "execution_count": 59,
      "metadata": {},
      "outputs": [
        {
          "name": "stderr",
          "output_type": "stream",
          "text": [
            "/var/folders/m2/f0dmk8qn71593x9d7n6nlxl00000gn/T/ipykernel_22055/2542185471.py:1: FutureWarning: The default of observed=False is deprecated and will be changed to True in a future version of pandas. Pass observed=False to retain current behavior or observed=True to adopt the future default and silence this warning.\n",
            "  day_df.groupby(\"workingday\").agg({\n"
          ]
        },
        {
          "data": {
            "text/html": [
              "<div>\n",
              "<style scoped>\n",
              "    .dataframe tbody tr th:only-of-type {\n",
              "        vertical-align: middle;\n",
              "    }\n",
              "\n",
              "    .dataframe tbody tr th {\n",
              "        vertical-align: top;\n",
              "    }\n",
              "\n",
              "    .dataframe thead tr th {\n",
              "        text-align: left;\n",
              "    }\n",
              "\n",
              "    .dataframe thead tr:last-of-type th {\n",
              "        text-align: right;\n",
              "    }\n",
              "</style>\n",
              "<table border=\"1\" class=\"dataframe\">\n",
              "  <thead>\n",
              "    <tr>\n",
              "      <th></th>\n",
              "      <th colspan=\"5\" halign=\"left\">cnt</th>\n",
              "    </tr>\n",
              "    <tr>\n",
              "      <th></th>\n",
              "      <th>sum</th>\n",
              "      <th>mean</th>\n",
              "      <th>max</th>\n",
              "      <th>min</th>\n",
              "      <th>std</th>\n",
              "    </tr>\n",
              "    <tr>\n",
              "      <th>workingday</th>\n",
              "      <th></th>\n",
              "      <th></th>\n",
              "      <th></th>\n",
              "      <th></th>\n",
              "      <th></th>\n",
              "    </tr>\n",
              "  </thead>\n",
              "  <tbody>\n",
              "    <tr>\n",
              "      <th>0</th>\n",
              "      <td>1000269</td>\n",
              "      <td>4330.168831</td>\n",
              "      <td>8714</td>\n",
              "      <td>605</td>\n",
              "      <td>2052.141245</td>\n",
              "    </tr>\n",
              "    <tr>\n",
              "      <th>1</th>\n",
              "      <td>2292410</td>\n",
              "      <td>4584.820000</td>\n",
              "      <td>8362</td>\n",
              "      <td>22</td>\n",
              "      <td>1878.415583</td>\n",
              "    </tr>\n",
              "  </tbody>\n",
              "</table>\n",
              "</div>"
            ],
            "text/plain": [
              "                cnt                                     \n",
              "                sum         mean   max  min          std\n",
              "workingday                                              \n",
              "0           1000269  4330.168831  8714  605  2052.141245\n",
              "1           2292410  4584.820000  8362   22  1878.415583"
            ]
          },
          "execution_count": 59,
          "metadata": {},
          "output_type": "execute_result"
        }
      ],
      "source": [
        "day_df.groupby(\"workingday\").agg({\n",
        "    \"cnt\": [\"sum\", \"mean\", \"max\", \"min\", \"std\"]\n",
        "})"
      ]
    },
    {
      "cell_type": "markdown",
      "metadata": {},
      "source": [
        "**Insight:**\n",
        "- Dapat dilihat bahwa pada hari kerja, lebih banyak sepeda yang disewa, yaitu sebesar 1.000.269 penyewaan dibandingkan dengan hari libur.\n",
        "- Rata-rata penyewaan pada hari libur adalah sebesar 4.330 sepeda/hari sedangkan pada hari kerja adalah sebesar 4.584 sepeda/hari."
      ]
    },
    {
      "cell_type": "markdown",
      "metadata": {},
      "source": [
        "**Mengelompokkan data penyewaan sepeda per hari**"
      ]
    },
    {
      "cell_type": "code",
      "execution_count": 60,
      "metadata": {},
      "outputs": [
        {
          "name": "stderr",
          "output_type": "stream",
          "text": [
            "/var/folders/m2/f0dmk8qn71593x9d7n6nlxl00000gn/T/ipykernel_22055/2146653375.py:1: FutureWarning: The default of observed=False is deprecated and will be changed to True in a future version of pandas. Pass observed=False to retain current behavior or observed=True to adopt the future default and silence this warning.\n",
            "  day_df.groupby(\"weekday\")[\"cnt\"].mean().sort_values(ascending=False)\n"
          ]
        },
        {
          "data": {
            "text/plain": [
              "weekday\n",
              "5    4690.288462\n",
              "4    4667.259615\n",
              "6    4550.542857\n",
              "3    4548.538462\n",
              "2    4510.663462\n",
              "1    4338.123810\n",
              "0    4228.828571\n",
              "Name: cnt, dtype: float64"
            ]
          },
          "execution_count": 60,
          "metadata": {},
          "output_type": "execute_result"
        }
      ],
      "source": [
        "day_df.groupby(\"weekday\")[\"cnt\"].mean().sort_values(ascending=False)"
      ]
    },
    {
      "cell_type": "markdown",
      "metadata": {},
      "source": [
        "**Insight:**\n",
        "- Dapat dilihat bahwa rata-rata penyewaan sepeda tertinggi terdapat pada hari jumat, yaitu sebesar 4.690 sepeda/hari. Sedangkan penyewaan sepeda terendah pada hari minggu, yaitu sebesar 4228 sepeda/hari.\n",
        "- Jika diurutkan dari hari yang memiliki penyewaan terbanyak sampai terendah adalah jumat, kamis, sabtu, rabu, selasa, senin, minggu."
      ]
    },
    {
      "cell_type": "markdown",
      "metadata": {},
      "source": [
        "### Explore data hour_df"
      ]
    },
    {
      "cell_type": "code",
      "execution_count": 61,
      "metadata": {},
      "outputs": [
        {
          "data": {
            "text/html": [
              "<div>\n",
              "<style scoped>\n",
              "    .dataframe tbody tr th:only-of-type {\n",
              "        vertical-align: middle;\n",
              "    }\n",
              "\n",
              "    .dataframe tbody tr th {\n",
              "        vertical-align: top;\n",
              "    }\n",
              "\n",
              "    .dataframe thead th {\n",
              "        text-align: right;\n",
              "    }\n",
              "</style>\n",
              "<table border=\"1\" class=\"dataframe\">\n",
              "  <thead>\n",
              "    <tr style=\"text-align: right;\">\n",
              "      <th></th>\n",
              "      <th>dteday</th>\n",
              "      <th>season</th>\n",
              "      <th>yr</th>\n",
              "      <th>mnth</th>\n",
              "      <th>hr</th>\n",
              "      <th>holiday</th>\n",
              "      <th>weekday</th>\n",
              "      <th>workingday</th>\n",
              "      <th>weathersit</th>\n",
              "      <th>temp</th>\n",
              "      <th>atemp</th>\n",
              "      <th>hum</th>\n",
              "      <th>windspeed</th>\n",
              "      <th>casual</th>\n",
              "      <th>registered</th>\n",
              "      <th>cnt</th>\n",
              "    </tr>\n",
              "  </thead>\n",
              "  <tbody>\n",
              "    <tr>\n",
              "      <th>count</th>\n",
              "      <td>17379</td>\n",
              "      <td>17379.0</td>\n",
              "      <td>17379.0</td>\n",
              "      <td>17379.0</td>\n",
              "      <td>17379.0</td>\n",
              "      <td>17379.0</td>\n",
              "      <td>17379.0</td>\n",
              "      <td>17379.0</td>\n",
              "      <td>17379.0</td>\n",
              "      <td>17379.000000</td>\n",
              "      <td>17379.000000</td>\n",
              "      <td>17379.000000</td>\n",
              "      <td>17379.000000</td>\n",
              "      <td>17379.000000</td>\n",
              "      <td>17379.000000</td>\n",
              "      <td>17379.000000</td>\n",
              "    </tr>\n",
              "    <tr>\n",
              "      <th>unique</th>\n",
              "      <td>NaN</td>\n",
              "      <td>4.0</td>\n",
              "      <td>2.0</td>\n",
              "      <td>12.0</td>\n",
              "      <td>24.0</td>\n",
              "      <td>2.0</td>\n",
              "      <td>7.0</td>\n",
              "      <td>2.0</td>\n",
              "      <td>4.0</td>\n",
              "      <td>NaN</td>\n",
              "      <td>NaN</td>\n",
              "      <td>NaN</td>\n",
              "      <td>NaN</td>\n",
              "      <td>NaN</td>\n",
              "      <td>NaN</td>\n",
              "      <td>NaN</td>\n",
              "    </tr>\n",
              "    <tr>\n",
              "      <th>top</th>\n",
              "      <td>NaN</td>\n",
              "      <td>3.0</td>\n",
              "      <td>1.0</td>\n",
              "      <td>5.0</td>\n",
              "      <td>17.0</td>\n",
              "      <td>0.0</td>\n",
              "      <td>6.0</td>\n",
              "      <td>1.0</td>\n",
              "      <td>1.0</td>\n",
              "      <td>NaN</td>\n",
              "      <td>NaN</td>\n",
              "      <td>NaN</td>\n",
              "      <td>NaN</td>\n",
              "      <td>NaN</td>\n",
              "      <td>NaN</td>\n",
              "      <td>NaN</td>\n",
              "    </tr>\n",
              "    <tr>\n",
              "      <th>freq</th>\n",
              "      <td>NaN</td>\n",
              "      <td>4496.0</td>\n",
              "      <td>8734.0</td>\n",
              "      <td>1488.0</td>\n",
              "      <td>730.0</td>\n",
              "      <td>16879.0</td>\n",
              "      <td>2512.0</td>\n",
              "      <td>11865.0</td>\n",
              "      <td>11413.0</td>\n",
              "      <td>NaN</td>\n",
              "      <td>NaN</td>\n",
              "      <td>NaN</td>\n",
              "      <td>NaN</td>\n",
              "      <td>NaN</td>\n",
              "      <td>NaN</td>\n",
              "      <td>NaN</td>\n",
              "    </tr>\n",
              "    <tr>\n",
              "      <th>mean</th>\n",
              "      <td>2012-01-02 04:08:34.552045568</td>\n",
              "      <td>NaN</td>\n",
              "      <td>NaN</td>\n",
              "      <td>NaN</td>\n",
              "      <td>NaN</td>\n",
              "      <td>NaN</td>\n",
              "      <td>NaN</td>\n",
              "      <td>NaN</td>\n",
              "      <td>NaN</td>\n",
              "      <td>0.496987</td>\n",
              "      <td>0.475775</td>\n",
              "      <td>0.627229</td>\n",
              "      <td>0.190098</td>\n",
              "      <td>35.676218</td>\n",
              "      <td>153.786869</td>\n",
              "      <td>189.463088</td>\n",
              "    </tr>\n",
              "    <tr>\n",
              "      <th>min</th>\n",
              "      <td>2011-01-01 00:00:00</td>\n",
              "      <td>NaN</td>\n",
              "      <td>NaN</td>\n",
              "      <td>NaN</td>\n",
              "      <td>NaN</td>\n",
              "      <td>NaN</td>\n",
              "      <td>NaN</td>\n",
              "      <td>NaN</td>\n",
              "      <td>NaN</td>\n",
              "      <td>0.020000</td>\n",
              "      <td>0.000000</td>\n",
              "      <td>0.000000</td>\n",
              "      <td>0.000000</td>\n",
              "      <td>0.000000</td>\n",
              "      <td>0.000000</td>\n",
              "      <td>1.000000</td>\n",
              "    </tr>\n",
              "    <tr>\n",
              "      <th>25%</th>\n",
              "      <td>2011-07-04 00:00:00</td>\n",
              "      <td>NaN</td>\n",
              "      <td>NaN</td>\n",
              "      <td>NaN</td>\n",
              "      <td>NaN</td>\n",
              "      <td>NaN</td>\n",
              "      <td>NaN</td>\n",
              "      <td>NaN</td>\n",
              "      <td>NaN</td>\n",
              "      <td>0.340000</td>\n",
              "      <td>0.333300</td>\n",
              "      <td>0.480000</td>\n",
              "      <td>0.104500</td>\n",
              "      <td>4.000000</td>\n",
              "      <td>34.000000</td>\n",
              "      <td>40.000000</td>\n",
              "    </tr>\n",
              "    <tr>\n",
              "      <th>50%</th>\n",
              "      <td>2012-01-02 00:00:00</td>\n",
              "      <td>NaN</td>\n",
              "      <td>NaN</td>\n",
              "      <td>NaN</td>\n",
              "      <td>NaN</td>\n",
              "      <td>NaN</td>\n",
              "      <td>NaN</td>\n",
              "      <td>NaN</td>\n",
              "      <td>NaN</td>\n",
              "      <td>0.500000</td>\n",
              "      <td>0.484800</td>\n",
              "      <td>0.630000</td>\n",
              "      <td>0.194000</td>\n",
              "      <td>17.000000</td>\n",
              "      <td>115.000000</td>\n",
              "      <td>142.000000</td>\n",
              "    </tr>\n",
              "    <tr>\n",
              "      <th>75%</th>\n",
              "      <td>2012-07-02 00:00:00</td>\n",
              "      <td>NaN</td>\n",
              "      <td>NaN</td>\n",
              "      <td>NaN</td>\n",
              "      <td>NaN</td>\n",
              "      <td>NaN</td>\n",
              "      <td>NaN</td>\n",
              "      <td>NaN</td>\n",
              "      <td>NaN</td>\n",
              "      <td>0.660000</td>\n",
              "      <td>0.621200</td>\n",
              "      <td>0.780000</td>\n",
              "      <td>0.253700</td>\n",
              "      <td>48.000000</td>\n",
              "      <td>220.000000</td>\n",
              "      <td>281.000000</td>\n",
              "    </tr>\n",
              "    <tr>\n",
              "      <th>max</th>\n",
              "      <td>2012-12-31 00:00:00</td>\n",
              "      <td>NaN</td>\n",
              "      <td>NaN</td>\n",
              "      <td>NaN</td>\n",
              "      <td>NaN</td>\n",
              "      <td>NaN</td>\n",
              "      <td>NaN</td>\n",
              "      <td>NaN</td>\n",
              "      <td>NaN</td>\n",
              "      <td>1.000000</td>\n",
              "      <td>1.000000</td>\n",
              "      <td>1.000000</td>\n",
              "      <td>0.850700</td>\n",
              "      <td>367.000000</td>\n",
              "      <td>886.000000</td>\n",
              "      <td>977.000000</td>\n",
              "    </tr>\n",
              "    <tr>\n",
              "      <th>std</th>\n",
              "      <td>NaN</td>\n",
              "      <td>NaN</td>\n",
              "      <td>NaN</td>\n",
              "      <td>NaN</td>\n",
              "      <td>NaN</td>\n",
              "      <td>NaN</td>\n",
              "      <td>NaN</td>\n",
              "      <td>NaN</td>\n",
              "      <td>NaN</td>\n",
              "      <td>0.192556</td>\n",
              "      <td>0.171850</td>\n",
              "      <td>0.192930</td>\n",
              "      <td>0.122340</td>\n",
              "      <td>49.305030</td>\n",
              "      <td>151.357286</td>\n",
              "      <td>181.387599</td>\n",
              "    </tr>\n",
              "  </tbody>\n",
              "</table>\n",
              "</div>"
            ],
            "text/plain": [
              "                               dteday   season       yr     mnth       hr  \\\n",
              "count                           17379  17379.0  17379.0  17379.0  17379.0   \n",
              "unique                            NaN      4.0      2.0     12.0     24.0   \n",
              "top                               NaN      3.0      1.0      5.0     17.0   \n",
              "freq                              NaN   4496.0   8734.0   1488.0    730.0   \n",
              "mean    2012-01-02 04:08:34.552045568      NaN      NaN      NaN      NaN   \n",
              "min               2011-01-01 00:00:00      NaN      NaN      NaN      NaN   \n",
              "25%               2011-07-04 00:00:00      NaN      NaN      NaN      NaN   \n",
              "50%               2012-01-02 00:00:00      NaN      NaN      NaN      NaN   \n",
              "75%               2012-07-02 00:00:00      NaN      NaN      NaN      NaN   \n",
              "max               2012-12-31 00:00:00      NaN      NaN      NaN      NaN   \n",
              "std                               NaN      NaN      NaN      NaN      NaN   \n",
              "\n",
              "        holiday  weekday  workingday  weathersit          temp         atemp  \\\n",
              "count   17379.0  17379.0     17379.0     17379.0  17379.000000  17379.000000   \n",
              "unique      2.0      7.0         2.0         4.0           NaN           NaN   \n",
              "top         0.0      6.0         1.0         1.0           NaN           NaN   \n",
              "freq    16879.0   2512.0     11865.0     11413.0           NaN           NaN   \n",
              "mean        NaN      NaN         NaN         NaN      0.496987      0.475775   \n",
              "min         NaN      NaN         NaN         NaN      0.020000      0.000000   \n",
              "25%         NaN      NaN         NaN         NaN      0.340000      0.333300   \n",
              "50%         NaN      NaN         NaN         NaN      0.500000      0.484800   \n",
              "75%         NaN      NaN         NaN         NaN      0.660000      0.621200   \n",
              "max         NaN      NaN         NaN         NaN      1.000000      1.000000   \n",
              "std         NaN      NaN         NaN         NaN      0.192556      0.171850   \n",
              "\n",
              "                 hum     windspeed        casual    registered           cnt  \n",
              "count   17379.000000  17379.000000  17379.000000  17379.000000  17379.000000  \n",
              "unique           NaN           NaN           NaN           NaN           NaN  \n",
              "top              NaN           NaN           NaN           NaN           NaN  \n",
              "freq             NaN           NaN           NaN           NaN           NaN  \n",
              "mean        0.627229      0.190098     35.676218    153.786869    189.463088  \n",
              "min         0.000000      0.000000      0.000000      0.000000      1.000000  \n",
              "25%         0.480000      0.104500      4.000000     34.000000     40.000000  \n",
              "50%         0.630000      0.194000     17.000000    115.000000    142.000000  \n",
              "75%         0.780000      0.253700     48.000000    220.000000    281.000000  \n",
              "max         1.000000      0.850700    367.000000    886.000000    977.000000  \n",
              "std         0.192930      0.122340     49.305030    151.357286    181.387599  "
            ]
          },
          "execution_count": 61,
          "metadata": {},
          "output_type": "execute_result"
        }
      ],
      "source": [
        "hour_df.describe(include=\"all\")"
      ]
    },
    {
      "cell_type": "markdown",
      "metadata": {},
      "source": [
        "**Insight:**\n",
        "- Dapat dilihat bahwa jam 17:00 memiliki jumlah data tertinggi. Hal ini bisa mengindikasikan bahwa jam sore hari setelah jam kerja (rush hour) adalah waktu dengan penyewaan sepeda tertinggi."
      ]
    },
    {
      "cell_type": "markdown",
      "metadata": {},
      "source": [
        "**Mengelompokkan data berdasarkan jam**"
      ]
    },
    {
      "cell_type": "code",
      "execution_count": 62,
      "metadata": {},
      "outputs": [
        {
          "name": "stderr",
          "output_type": "stream",
          "text": [
            "/var/folders/m2/f0dmk8qn71593x9d7n6nlxl00000gn/T/ipykernel_22055/3762046897.py:1: FutureWarning: The default of observed=False is deprecated and will be changed to True in a future version of pandas. Pass observed=False to retain current behavior or observed=True to adopt the future default and silence this warning.\n",
            "  hour_df.groupby(\"hr\").agg({\n"
          ]
        },
        {
          "data": {
            "text/html": [
              "<div>\n",
              "<style scoped>\n",
              "    .dataframe tbody tr th:only-of-type {\n",
              "        vertical-align: middle;\n",
              "    }\n",
              "\n",
              "    .dataframe tbody tr th {\n",
              "        vertical-align: top;\n",
              "    }\n",
              "\n",
              "    .dataframe thead tr th {\n",
              "        text-align: left;\n",
              "    }\n",
              "\n",
              "    .dataframe thead tr:last-of-type th {\n",
              "        text-align: right;\n",
              "    }\n",
              "</style>\n",
              "<table border=\"1\" class=\"dataframe\">\n",
              "  <thead>\n",
              "    <tr>\n",
              "      <th></th>\n",
              "      <th colspan=\"5\" halign=\"left\">cnt</th>\n",
              "    </tr>\n",
              "    <tr>\n",
              "      <th></th>\n",
              "      <th>sum</th>\n",
              "      <th>mean</th>\n",
              "      <th>max</th>\n",
              "      <th>min</th>\n",
              "      <th>std</th>\n",
              "    </tr>\n",
              "    <tr>\n",
              "      <th>hr</th>\n",
              "      <th></th>\n",
              "      <th></th>\n",
              "      <th></th>\n",
              "      <th></th>\n",
              "      <th></th>\n",
              "    </tr>\n",
              "  </thead>\n",
              "  <tbody>\n",
              "    <tr>\n",
              "      <th>0</th>\n",
              "      <td>39130</td>\n",
              "      <td>53.898072</td>\n",
              "      <td>283</td>\n",
              "      <td>2</td>\n",
              "      <td>42.307910</td>\n",
              "    </tr>\n",
              "    <tr>\n",
              "      <th>1</th>\n",
              "      <td>24164</td>\n",
              "      <td>33.375691</td>\n",
              "      <td>168</td>\n",
              "      <td>1</td>\n",
              "      <td>33.538727</td>\n",
              "    </tr>\n",
              "    <tr>\n",
              "      <th>2</th>\n",
              "      <td>16352</td>\n",
              "      <td>22.869930</td>\n",
              "      <td>132</td>\n",
              "      <td>1</td>\n",
              "      <td>26.578642</td>\n",
              "    </tr>\n",
              "    <tr>\n",
              "      <th>3</th>\n",
              "      <td>8174</td>\n",
              "      <td>11.727403</td>\n",
              "      <td>79</td>\n",
              "      <td>1</td>\n",
              "      <td>13.239190</td>\n",
              "    </tr>\n",
              "    <tr>\n",
              "      <th>4</th>\n",
              "      <td>4428</td>\n",
              "      <td>6.352941</td>\n",
              "      <td>28</td>\n",
              "      <td>1</td>\n",
              "      <td>4.143818</td>\n",
              "    </tr>\n",
              "    <tr>\n",
              "      <th>5</th>\n",
              "      <td>14261</td>\n",
              "      <td>19.889819</td>\n",
              "      <td>66</td>\n",
              "      <td>1</td>\n",
              "      <td>13.200765</td>\n",
              "    </tr>\n",
              "    <tr>\n",
              "      <th>6</th>\n",
              "      <td>55132</td>\n",
              "      <td>76.044138</td>\n",
              "      <td>213</td>\n",
              "      <td>1</td>\n",
              "      <td>55.084348</td>\n",
              "    </tr>\n",
              "    <tr>\n",
              "      <th>7</th>\n",
              "      <td>154171</td>\n",
              "      <td>212.064649</td>\n",
              "      <td>596</td>\n",
              "      <td>1</td>\n",
              "      <td>161.441936</td>\n",
              "    </tr>\n",
              "    <tr>\n",
              "      <th>8</th>\n",
              "      <td>261001</td>\n",
              "      <td>359.011004</td>\n",
              "      <td>839</td>\n",
              "      <td>5</td>\n",
              "      <td>235.189285</td>\n",
              "    </tr>\n",
              "    <tr>\n",
              "      <th>9</th>\n",
              "      <td>159438</td>\n",
              "      <td>219.309491</td>\n",
              "      <td>426</td>\n",
              "      <td>14</td>\n",
              "      <td>93.703458</td>\n",
              "    </tr>\n",
              "    <tr>\n",
              "      <th>10</th>\n",
              "      <td>126257</td>\n",
              "      <td>173.668501</td>\n",
              "      <td>539</td>\n",
              "      <td>8</td>\n",
              "      <td>102.205413</td>\n",
              "    </tr>\n",
              "    <tr>\n",
              "      <th>11</th>\n",
              "      <td>151320</td>\n",
              "      <td>208.143054</td>\n",
              "      <td>663</td>\n",
              "      <td>10</td>\n",
              "      <td>127.495536</td>\n",
              "    </tr>\n",
              "    <tr>\n",
              "      <th>12</th>\n",
              "      <td>184414</td>\n",
              "      <td>253.315934</td>\n",
              "      <td>776</td>\n",
              "      <td>3</td>\n",
              "      <td>145.081134</td>\n",
              "    </tr>\n",
              "    <tr>\n",
              "      <th>13</th>\n",
              "      <td>184919</td>\n",
              "      <td>253.661180</td>\n",
              "      <td>760</td>\n",
              "      <td>11</td>\n",
              "      <td>148.107657</td>\n",
              "    </tr>\n",
              "    <tr>\n",
              "      <th>14</th>\n",
              "      <td>175652</td>\n",
              "      <td>240.949246</td>\n",
              "      <td>750</td>\n",
              "      <td>12</td>\n",
              "      <td>147.271574</td>\n",
              "    </tr>\n",
              "    <tr>\n",
              "      <th>15</th>\n",
              "      <td>183149</td>\n",
              "      <td>251.233196</td>\n",
              "      <td>750</td>\n",
              "      <td>7</td>\n",
              "      <td>144.632541</td>\n",
              "    </tr>\n",
              "    <tr>\n",
              "      <th>16</th>\n",
              "      <td>227748</td>\n",
              "      <td>311.983562</td>\n",
              "      <td>783</td>\n",
              "      <td>11</td>\n",
              "      <td>148.682618</td>\n",
              "    </tr>\n",
              "    <tr>\n",
              "      <th>17</th>\n",
              "      <td>336860</td>\n",
              "      <td>461.452055</td>\n",
              "      <td>976</td>\n",
              "      <td>15</td>\n",
              "      <td>232.656611</td>\n",
              "    </tr>\n",
              "    <tr>\n",
              "      <th>18</th>\n",
              "      <td>309772</td>\n",
              "      <td>425.510989</td>\n",
              "      <td>977</td>\n",
              "      <td>23</td>\n",
              "      <td>224.639304</td>\n",
              "    </tr>\n",
              "    <tr>\n",
              "      <th>19</th>\n",
              "      <td>226789</td>\n",
              "      <td>311.523352</td>\n",
              "      <td>743</td>\n",
              "      <td>11</td>\n",
              "      <td>161.050359</td>\n",
              "    </tr>\n",
              "    <tr>\n",
              "      <th>20</th>\n",
              "      <td>164550</td>\n",
              "      <td>226.030220</td>\n",
              "      <td>567</td>\n",
              "      <td>11</td>\n",
              "      <td>119.670164</td>\n",
              "    </tr>\n",
              "    <tr>\n",
              "      <th>21</th>\n",
              "      <td>125445</td>\n",
              "      <td>172.314560</td>\n",
              "      <td>584</td>\n",
              "      <td>6</td>\n",
              "      <td>89.788893</td>\n",
              "    </tr>\n",
              "    <tr>\n",
              "      <th>22</th>\n",
              "      <td>95612</td>\n",
              "      <td>131.335165</td>\n",
              "      <td>502</td>\n",
              "      <td>9</td>\n",
              "      <td>69.937782</td>\n",
              "    </tr>\n",
              "    <tr>\n",
              "      <th>23</th>\n",
              "      <td>63941</td>\n",
              "      <td>87.831044</td>\n",
              "      <td>256</td>\n",
              "      <td>2</td>\n",
              "      <td>50.846889</td>\n",
              "    </tr>\n",
              "  </tbody>\n",
              "</table>\n",
              "</div>"
            ],
            "text/plain": [
              "       cnt                                 \n",
              "       sum        mean  max min         std\n",
              "hr                                         \n",
              "0    39130   53.898072  283   2   42.307910\n",
              "1    24164   33.375691  168   1   33.538727\n",
              "2    16352   22.869930  132   1   26.578642\n",
              "3     8174   11.727403   79   1   13.239190\n",
              "4     4428    6.352941   28   1    4.143818\n",
              "5    14261   19.889819   66   1   13.200765\n",
              "6    55132   76.044138  213   1   55.084348\n",
              "7   154171  212.064649  596   1  161.441936\n",
              "8   261001  359.011004  839   5  235.189285\n",
              "9   159438  219.309491  426  14   93.703458\n",
              "10  126257  173.668501  539   8  102.205413\n",
              "11  151320  208.143054  663  10  127.495536\n",
              "12  184414  253.315934  776   3  145.081134\n",
              "13  184919  253.661180  760  11  148.107657\n",
              "14  175652  240.949246  750  12  147.271574\n",
              "15  183149  251.233196  750   7  144.632541\n",
              "16  227748  311.983562  783  11  148.682618\n",
              "17  336860  461.452055  976  15  232.656611\n",
              "18  309772  425.510989  977  23  224.639304\n",
              "19  226789  311.523352  743  11  161.050359\n",
              "20  164550  226.030220  567  11  119.670164\n",
              "21  125445  172.314560  584   6   89.788893\n",
              "22   95612  131.335165  502   9   69.937782\n",
              "23   63941   87.831044  256   2   50.846889"
            ]
          },
          "execution_count": 62,
          "metadata": {},
          "output_type": "execute_result"
        }
      ],
      "source": [
        "hour_df.groupby(\"hr\").agg({\n",
        "    \"cnt\": [\"sum\", \"mean\", \"max\", \"min\", \"std\"]\n",
        "})"
      ]
    },
    {
      "cell_type": "markdown",
      "metadata": {},
      "source": [
        "**Insight:**\n",
        "- Dapat dilihat bahwa jam 17:00 memiliki jumlah penyewaan sepeda terbanyak, yaitu dengan total 336.860 sepeda. Dengan rata-rata 461 sepeda/jam.\n",
        "- Jam dengan penyewaan terendah adalah pada pukul 4:00, yaitu sebesar 4.428 sepeda. Dengan rata-rata 6 sepeda/jam.\n",
        "- Hal ini menunjukkan bahwa penyewaan sepeda paling banyak terjadi antara jam 16:00 - 19:00 (4-7 PM) sedangkan penyewaan paling rendah terjadi pada jam 3-5 pagi. Hal ini dapat dilihat dari rata-rata dan total penyewaan sepeda per jam."
      ]
    },
    {
      "cell_type": "markdown",
      "metadata": {
        "id": "zsyZjqak8DC2"
      },
      "source": [
        "## Visualization & Explanatory Analysis"
      ]
    },
    {
      "cell_type": "markdown",
      "metadata": {
        "id": "HZxOiQ6n8DC2"
      },
      "source": [
        "### Pertanyaan 1: Bagaimana pengaruh cuaca dan musim terhadap rata-rata jumlah penyewaan sepeda?"
      ]
    },
    {
      "cell_type": "code",
      "execution_count": 74,
      "metadata": {},
      "outputs": [
        {
          "name": "stderr",
          "output_type": "stream",
          "text": [
            "/var/folders/m2/f0dmk8qn71593x9d7n6nlxl00000gn/T/ipykernel_22055/2695203584.py:3: FutureWarning: The default of observed=False is deprecated and will be changed to True in a future version of pandas. Pass observed=False to retain current behavior or observed=True to adopt the future default and silence this warning.\n",
            "  weather_avg = day_df.groupby(\"weathersit\")[\"cnt\"].mean().reset_index()\n",
            "/var/folders/m2/f0dmk8qn71593x9d7n6nlxl00000gn/T/ipykernel_22055/2695203584.py:11: FutureWarning: The behavior of Series.replace (and DataFrame.replace) with CategoricalDtype is deprecated. In a future version, replace will only be used for cases that preserve the categories. To change the categories, use ser.cat.rename_categories instead.\n",
            "  weather_avg[\"weathersit\"] = weather_avg[\"weathersit\"].replace(weather_mapping)\n",
            "/var/folders/m2/f0dmk8qn71593x9d7n6nlxl00000gn/T/ipykernel_22055/2695203584.py:17: FutureWarning: \n",
            "\n",
            "Passing `palette` without assigning `hue` is deprecated and will be removed in v0.14.0. Assign the `x` variable to `hue` and set `legend=False` for the same effect.\n",
            "\n",
            "  sns.barplot(x=\"weathersit\", y=\"cnt\", data=weather_avg, palette=colors, ax=ax)\n"
          ]
        },
        {
          "data": {
            "image/png": "[encoded data removed]",
            "text/plain": [
              "<Figure size 1000x500 with 1 Axes>"
            ]
          },
          "metadata": {},
          "output_type": "display_data"
        }
      ],
      "source": [
        "fig, ax = plt.subplots(figsize=(10, 5))\n",
        "\n",
        "weather_avg = day_df.groupby(\"weathersit\")[\"cnt\"].mean().reset_index()\n",
        "\n",
        "weather_mapping = {\n",
        "    1: \"Cerah / Berawan\",\n",
        "    2: \"Berkabut\",\n",
        "    3: \"Hujan Ringan / Salju\",\n",
        "    4: \"Hujan Lebat / Badai\"\n",
        "}\n",
        "weather_avg[\"weathersit\"] = weather_avg[\"weathersit\"].replace(weather_mapping)\n",
        "weather_avg = weather_avg.sort_values(by=\"cnt\", ascending=False)\n",
        "\n",
        "max_cnt = weather_avg[\"cnt\"].max()\n",
        "colors = [\"#1F77B4\" if cnt == max_cnt else \"#D3D3D3\" for cnt in weather_avg[\"cnt\"]]\n",
        "\n",
        "sns.barplot(x=\"weathersit\", y=\"cnt\", data=weather_avg, palette=colors, ax=ax)\n",
        "\n",
        "ax.set_title(\"Pengaruh Cuaca terhadap Penyewaan Sepeda\", fontsize=14)\n",
        "ax.set_xlabel(\"Cuaca\", fontsize=12)\n",
        "ax.set_ylabel(\"Rata-rata Jumlah Penyewaan\", fontsize=12)\n",
        "\n",
        "plt.show()\n"
      ]
    },
    {
      "cell_type": "code",
      "execution_count": 76,
      "metadata": {},
      "outputs": [
        {
          "name": "stderr",
          "output_type": "stream",
          "text": [
            "/var/folders/m2/f0dmk8qn71593x9d7n6nlxl00000gn/T/ipykernel_22055/953615021.py:3: FutureWarning: The default of observed=False is deprecated and will be changed to True in a future version of pandas. Pass observed=False to retain current behavior or observed=True to adopt the future default and silence this warning.\n",
            "  season_avg = day_df.groupby(\"season\")[\"cnt\"].mean().reset_index()\n",
            "/var/folders/m2/f0dmk8qn71593x9d7n6nlxl00000gn/T/ipykernel_22055/953615021.py:5: FutureWarning: The behavior of Series.replace (and DataFrame.replace) with CategoricalDtype is deprecated. In a future version, replace will only be used for cases that preserve the categories. To change the categories, use ser.cat.rename_categories instead.\n",
            "  season_avg[\"season\"] = season_avg[\"season\"].replace(season_mapping)\n",
            "/var/folders/m2/f0dmk8qn71593x9d7n6nlxl00000gn/T/ipykernel_22055/953615021.py:11: FutureWarning: \n",
            "\n",
            "Passing `palette` without assigning `hue` is deprecated and will be removed in v0.14.0. Assign the `x` variable to `hue` and set `legend=False` for the same effect.\n",
            "\n",
            "  sns.barplot(x=\"season\", y=\"cnt\", data=season_avg, palette=colors, ax=ax, order=season_avg[\"season\"])\n"
          ]
        },
        {
          "data": {
            "image/png": "[encoded data removed]",
            "text/plain": [
              "<Figure size 1000x500 with 1 Axes>"
            ]
          },
          "metadata": {},
          "output_type": "display_data"
        }
      ],
      "source": [
        "fig, ax = plt.subplots(figsize=(10, 5))\n",
        "\n",
        "season_avg = day_df.groupby(\"season\")[\"cnt\"].mean().reset_index()\n",
        "season_mapping = {1: \"Semi\", 2: \"Panas\", 3: \"Gugur\", 4: \"Salju\"}\n",
        "season_avg[\"season\"] = season_avg[\"season\"].replace(season_mapping)\n",
        "season_avg = season_avg.sort_values(by=\"cnt\", ascending=False)\n",
        "\n",
        "max_cnt = season_avg[\"cnt\"].max()\n",
        "colors = [\"#1F77B4\" if cnt == max_cnt else \"#D3D3D3\" for cnt in season_avg[\"cnt\"]]\n",
        "\n",
        "sns.barplot(x=\"season\", y=\"cnt\", data=season_avg, palette=colors, ax=ax, order=season_avg[\"season\"])\n",
        "\n",
        "ax.set_title(\"Pengaruh Musim terhadap Penyewaan Sepeda\", fontsize=14)\n",
        "ax.set_xlabel(\"Musim\", fontsize=12)\n",
        "ax.set_ylabel(\"Rata-rata Jumlah Penyewaan\", fontsize=12)\n",
        "\n",
        "plt.show()"
      ]
    },
    {
      "cell_type": "markdown",
      "metadata": {},
      "source": [
        "**Insight Pengaruh Cuaca:**\n",
        "- Dari barplot tersebut, dapat dilihat bahwa cuaca memiliki pengaruh terhadap jumlah penyewaan sepeda. Pada saat cuaca cerah (langit cerah atau sedikit berawan) jumlah penyewaan/hari lebih besar dibandingkan dengan cuaca lainnya, yaitu saat cuaca berawan dan berkabut. Dengan jumlah penyewaan hampir mencapai 5.000 sepeda. \n",
        "- Penyewaan sepeda paling rendah adalah saat cuaca hujan dan salju ringan, dengan rata-rata kurang dari 2.000 penyewaan sepeda.\n",
        "- Saat cuaca berkabut, rata-rata penyewaan sepeda menurun dibandingkan dengan cuaca cerah.\n",
        "- Dari data yang ada, tidak ada penyewaan sepeda saat cuaca ekstrem (Hujan deras dengan butiran es, badai petir, dan kabut) Hal ini mungkin terjadi karena kondisi yang berbahaya dan tidak nyaman.\n",
        "\n",
        "**Insight Pengaruh Musim:**\n",
        "- Selain cuaca, musim juga memiliki pengaruh terhadap jumlah penyewaan sepeda. Banyak penyewa paling tinggi adalah saat musim gugur yang jumlahnya melebihi dari 5.000 penyewaan sepeda. \n",
        "- Pada musim panas dan musim salju memiliki jumlah penyewaan sepeda sekitar 4.000 penyewaan sepeda. \n",
        "- Musim yang memiliki jumlah penyewaan terendah adalah saat musim semi dengan jumlah yang tidak mencapai 3.000 penyewaan sepeda/hari."
      ]
    },
    {
      "cell_type": "markdown",
      "metadata": {
        "id": "DgHI7CiU8DC2"
      },
      "source": [
        "### Pertanyaan 2: Pada jam berapa terjadi lonjakan penyewaan sepeda dalam sehari?"
      ]
    },
    {
      "cell_type": "code",
      "execution_count": 65,
      "metadata": {},
      "outputs": [
        {
          "name": "stderr",
          "output_type": "stream",
          "text": [
            "/var/folders/m2/f0dmk8qn71593x9d7n6nlxl00000gn/T/ipykernel_22055/4108989299.py:1: FutureWarning: The default of observed=False is deprecated and will be changed to True in a future version of pandas. Pass observed=False to retain current behavior or observed=True to adopt the future default and silence this warning.\n",
            "  hourly = hour_df.groupby(\"hr\")[\"cnt\"].sum().reset_index()\n"
          ]
        },
        {
          "data": {
            "image/png": "[encoded data removed]",
            "text/plain": [
              "<Figure size 1000x500 with 1 Axes>"
            ]
          },
          "metadata": {},
          "output_type": "display_data"
        }
      ],
      "source": [
        "hourly = hour_df.groupby(\"hr\")[\"cnt\"].sum().reset_index()\n",
        "\n",
        "plt.figure(figsize=(10, 5))\n",
        "plt.plot(\n",
        "    hourly[\"hr\"],\n",
        "    hourly[\"cnt\"],\n",
        "    marker='o', \n",
        "    linewidth=2,\n",
        "    color=\"#72BCD4\"\n",
        ")\n",
        "plt.title(\"Penyewaan Sepeda per Jam\", loc=\"center\", fontsize=20)\n",
        "plt.xlabel(\"Jam dalam Sehari\", fontsize=12)\n",
        "plt.ylabel(\"Jumlah Penyewaan\", fontsize=12)\n",
        "\n",
        "plt.xticks(range(0, 24), fontsize=10)\n",
        "plt.yticks(fontsize=10)\n",
        "\n",
        "plt.show()"
      ]
    },
    {
      "cell_type": "markdown",
      "metadata": {},
      "source": [
        "**Insight:**\n",
        "- Berdasarkan lineplot tersebut, puncak penyewaan sepeda tertinggi adalah pada saat pukul 17:00 - 18:00 hal ini menunjukkan peminatan penyewaan sepeda yang tinggi pada saat pulang kerja atau aktivitas sore hari. Kemudian setelah itu penyewaan sepeda akan menurun secara bertahap dan paling rendah adalah pada pukul 04:00 yang mengindikasikan minimnya aktivitas masyarakat pada sekitar jam tersebut.\n",
        "- Selain itu, terdapat penyewaan cukup meningkat di pagi hari, yaitu puncaknya pada pukul 08:00 saat mayoritas jam berangkat bekerja atau beraktivitas. Selanjutkan mengalami penurunan lagi namun cenderung stabil diantara pukul 09:00 - 16:00.\n",
        "- Untuk menambah pemasukan, dapat diberlakukan harga yang lebih tinggi di jam sibuk (07:00 - 09:00 & 18:00 - 19:00) dan memberikan promo untuk penyewa di jam-jam diluar jam sibuk agar terjadi pemerataan penyewaan."
      ]
    },
    {
      "cell_type": "markdown",
      "metadata": {},
      "source": [
        "### Pertanyaan 3: Bagaimana perbandingan rata-rata jumlah penyewaan sepeda antara hari kerja dan hari libur?"
      ]
    },
    {
      "cell_type": "code",
      "execution_count": null,
      "metadata": {},
      "outputs": [
        {
          "name": "stderr",
          "output_type": "stream",
          "text": [
            "/var/folders/m2/f0dmk8qn71593x9d7n6nlxl00000gn/T/ipykernel_22055/2353968288.py:3: FutureWarning: The default of observed=False is deprecated and will be changed to True in a future version of pandas. Pass observed=False to retain current behavior or observed=True to adopt the future default and silence this warning.\n",
            "  workingday_avg = day_df.groupby(\"workingday\")[\"cnt\"].mean().reset_index()\n",
            "/var/folders/m2/f0dmk8qn71593x9d7n6nlxl00000gn/T/ipykernel_22055/2353968288.py:6: FutureWarning: The behavior of Series.replace (and DataFrame.replace) with CategoricalDtype is deprecated. In a future version, replace will only be used for cases that preserve the categories. To change the categories, use ser.cat.rename_categories instead.\n",
            "  workingday_avg[\"workingday\"] = workingday_avg[\"workingday\"].replace(workingday_mapping)\n"
          ]
        },
        {
          "data": {
            "image/png": "[encoded data removed]",
            "text/plain": [
              "<Figure size 800x500 with 1 Axes>"
            ]
          },
          "metadata": {},
          "output_type": "display_data"
        }
      ],
      "source": [
        "fig, ax = plt.subplots(figsize=(8, 5))\n",
        "\n",
        "workingday_avg = day_df.groupby(\"workingday\")[\"cnt\"].mean().reset_index()\n",
        "\n",
        "workingday_mapping = {0: \"Hari Libur\", 1: \"Hari Kerja\"}\n",
        "workingday_avg[\"workingday\"] = workingday_avg[\"workingday\"].replace(workingday_mapping)\n",
        "\n",
        "sns.barplot(x=\"workingday\", y=\"cnt\", data=workingday_avg, color=\"#72BCD4\", ax=ax)\n",
        "ax.set_title(\"Perbandingan Rata-rata Penyewaan Sepeda pada Hari Kerja dan Hari Libur\", fontsize=14)\n",
        "ax.set_xlabel(\"Kategori Hari\", fontsize=12)\n",
        "ax.set_ylabel(\"Rata-rata Penyewaan Sepeda\", fontsize=12)\n",
        "\n",
        "plt.show()"
      ]
    },
    {
      "cell_type": "markdown",
      "metadata": {
        "id": "_0-36BDLklRg"
      },
      "source": [
        "**Insight:**\n",
        "- Berdasarkan barplot, rata-rata penyewaan sepeda pada hari kerja dan hari libur relatif sama, namun pada hari kerja rata-rata penyewaan sepeda sedikit lebih banyak dibandingkan dengan pada saat hari libur. Kemungkinan penyebabnya adalah penggunaan sepeda sebagai sarana transportasi ke tempat kerja pada hari kerja, sedangkan pada hari libur penyewaan cenderung dipengaruhi oleh faktor rekreasi atau aktivitas santai.\n",
        "- Dapat diberlakukan promosi khusus di hari libur yang diperkirakan memiliki jumlah penyewaan tinggi (misalnya, saat musim panas atau event tertentu) agar lebih banyak pelanggan yang memanfaatkan layanan."
      ]
    },
    {
      "cell_type": "markdown",
      "metadata": {},
      "source": [
        "### Pertanyaan 4: Hari apa yang memiliki rata-rata jumlah penyewaan tertinggi?"
      ]
    },
    {
      "cell_type": "code",
      "execution_count": 78,
      "metadata": {},
      "outputs": [
        {
          "name": "stderr",
          "output_type": "stream",
          "text": [
            "/var/folders/m2/f0dmk8qn71593x9d7n6nlxl00000gn/T/ipykernel_22055/4027401561.py:3: FutureWarning: The default of observed=False is deprecated and will be changed to True in a future version of pandas. Pass observed=False to retain current behavior or observed=True to adopt the future default and silence this warning.\n",
            "  avg_rent_per_day = day_df.groupby(\"weekday\")[\"cnt\"].mean().reset_index()\n",
            "/var/folders/m2/f0dmk8qn71593x9d7n6nlxl00000gn/T/ipykernel_22055/4027401561.py:5: FutureWarning: The behavior of Series.replace (and DataFrame.replace) with CategoricalDtype is deprecated. In a future version, replace will only be used for cases that preserve the categories. To change the categories, use ser.cat.rename_categories instead.\n",
            "  avg_rent_per_day[\"weekday\"] = avg_rent_per_day[\"weekday\"].replace(day_mapping)\n",
            "/var/folders/m2/f0dmk8qn71593x9d7n6nlxl00000gn/T/ipykernel_22055/4027401561.py:11: FutureWarning: \n",
            "\n",
            "Passing `palette` without assigning `hue` is deprecated and will be removed in v0.14.0. Assign the `x` variable to `hue` and set `legend=False` for the same effect.\n",
            "\n",
            "  sns.barplot(x=\"weekday\", y=\"cnt\", data=avg_rent_per_day, palette=colors, order=avg_rent_per_day[\"weekday\"])\n"
          ]
        },
        {
          "data": {
            "image/png": "[encoded data removed]",
            "text/plain": [
              "<Figure size 1000x600 with 1 Axes>"
            ]
          },
          "metadata": {},
          "output_type": "display_data"
        }
      ],
      "source": [
        "plt.figure(figsize=(10, 6))\n",
        "\n",
        "avg_rent_per_day = day_df.groupby(\"weekday\")[\"cnt\"].mean().reset_index()\n",
        "day_mapping = {0: \"Minggu\", 1: \"Senin\", 2: \"Selasa\", 3: \"Rabu\", 4: \"Kamis\", 5: \"Jumat\", 6: \"Sabtu\"}\n",
        "avg_rent_per_day[\"weekday\"] = avg_rent_per_day[\"weekday\"].replace(day_mapping)\n",
        "avg_rent_per_day = avg_rent_per_day.sort_values(by=\"cnt\", ascending=False)\n",
        "\n",
        "max_cnt = avg_rent_per_day[\"cnt\"].max()\n",
        "colors = [\"#1F77B4\" if cnt == max_cnt else \"#D3D3D3\" for cnt in avg_rent_per_day[\"cnt\"]]  \n",
        "\n",
        "sns.barplot(x=\"weekday\", y=\"cnt\", data=avg_rent_per_day, palette=colors, order=avg_rent_per_day[\"weekday\"])  \n",
        "\n",
        "plt.title(\"Rata-rata Penyewaan Sepeda per Hari\", fontsize=15)\n",
        "plt.xlabel(\"Hari\", fontsize=12)\n",
        "plt.ylabel(\"Rata-rata Jumlah Penyewaan\", fontsize=12)\n",
        "\n",
        "plt.show()\n"
      ]
    },
    {
      "cell_type": "markdown",
      "metadata": {},
      "source": [
        "**Insight:**\n",
        "- Berdasarkan barplot tersebut dapat dilihat bahwa rata-rata penyewaan sepeda per hari hampir sama, yaitu lebih dari 4.000 penyewaan sepeda/hari. Namun hari dengan rata-rata penyewaan tertinggi adalah hari Jumat.\n",
        "- Peningkatan penyewaan di hari jumat bisa diakibatkan dengan adanya efek \"weekend gateaway\" di waktu sore hari menjelang akhir pekan.\n",
        "- Rata-rata penyewaan terendah terjadi pada hari Minggu, yang mengalami sedikit penurunan dibandingkan hari lainnya."
      ]
    },
    {
      "cell_type": "markdown",
      "metadata": {
        "id": "9y4VUsmcYNZ5"
      },
      "source": [
        "## Analisis Lanjutan (Opsional)"
      ]
    },
    {
      "cell_type": "markdown",
      "metadata": {},
      "source": [
        "### Berapa banyak hari yang termasuk dalam kategori penyewaan sepeda rendah, sedang, dan tinggi selama periode analisis?"
      ]
    },
    {
      "cell_type": "markdown",
      "metadata": {},
      "source": [
        "Pada analisis lanjutan akan dilakukan teknik analisis kategorisasi jumlah penyewaan. Tujuannya adalah untuk mengelompokkan jumlah penyewaan sepeda ke dalam tiga kategori utama : rendah, sedang, dan tinggi. Dengan ketentuan :\n",
        "- penyewaan rendah jika kurang dari 3000 penyewaan/hari\n",
        "- penyewaan sedang jika berkisar 3001 - 5000 penyewaan/hari\n",
        "- penyewaan tinggi jika lebih dari 5000 penyewaan/hari\n",
        "\n",
        "Pendekatan ini digunakan karena jumlah penyewaan sepeda adalah variabel numerik yang memiliki variasi cukup besar setiap harinya. Dengan melakukan analisis ini dapat memahami pola penyewaan sepeda dengan lebih mudah dan dapat memudahkan interpretasi data tanpa kehilangan informasi penting. "
      ]
    },
    {
      "cell_type": "code",
      "execution_count": 68,
      "metadata": {},
      "outputs": [
        {
          "name": "stdout",
          "output_type": "stream",
          "text": [
            "Kategori_Penyewaan\n",
            "Tinggi    286\n",
            "Sedang    273\n",
            "Rendah    172\n",
            "Name: count, dtype: int64\n",
            "\n",
            "Kategori yang paling banyak harinya adalah: Tinggi\n"
          ]
        }
      ],
      "source": [
        "def categorize_rentals(cnt):\n",
        "    if cnt <= 3000:\n",
        "        return 'Rendah'\n",
        "    elif 3001 <= cnt <= 5000:\n",
        "        return 'Sedang'\n",
        "    else:\n",
        "        return 'Tinggi'\n",
        "\n",
        "\n",
        "day_df['Kategori_Penyewaan'] = day_df['cnt'].apply(categorize_rentals)\n",
        "category_counts = day_df['Kategori_Penyewaan'].value_counts()\n",
        "\n",
        "print(category_counts)\n",
        "\n",
        "most_frequent_category = category_counts.idxmax()\n",
        "print(f\"\\nKategori yang paling banyak harinya adalah: {most_frequent_category}\")\n"
      ]
    },
    {
      "cell_type": "markdown",
      "metadata": {},
      "source": [
        "**insight:**\n",
        "- Berdasarkan data yang dianalisis, mayoritas hari memiliki penyewaan sepeda yang tinggi, yaitu lebih dari 5.000 penyewaan per hari. \n",
        "- Sebanyak 286 hari memiliki penyewaan tinggi (>5000), 273 hari memiliki tingkat penyewaan sedang, dan 172 hari memiliki tingkat penyewaan rendah (<3000)\n",
        "- Hal ini menunjukkan bahwa dalam sebagian besar hari, permintaan penyewaan sepeda cukup tinggi, sementara hari dengan penyewaan rendah relatif lebih sedikit."
      ]
    },
    {
      "cell_type": "markdown",
      "metadata": {
        "id": "_WeHlCeX8DC2"
      },
      "source": [
        "## Conclusion"
      ]
    },
    {
      "cell_type": "markdown",
      "metadata": {
        "id": "ZTcyR48Y8DC2"
      },
      "source": [
        "Berdasarkan hasil analisis, dapat disimpulkan sebagai berikut.\n",
        "- Cuaca cerah atau sedikit berawan meningkatkan jumlah penyewaan sepeda, sementara hujan, salju ringan, dan cuaca ekstrem menurunkan jumlah penyewaan. Bahkan tidak ada penyewaan sepeda saat kondisi ekstrim seperti badai petir atau hujan salju deras. \n",
        "- Dari segi musim, pada musim gugur penyewaan sepeda cenderung tinggi diikuti dengan penyewaan di musim panas dan musim dingin, sedangkan pada musim semi memiliki penyewaan terendah. Hal ini dapat disebabkan oleh suhu yang lebih nyaman untuk bersepeda dibandingkan dengan musim lainnya.\n",
        "- Penyewaan sepeda memuncak pada pukul 17:00 - 18:00 yang memungkinkan karena pada waktu tersebut orang-orang pulang kerja atau selesai beraktivitas dan terendah adalah pukul 04:00 karena masih waktu dini hari dan minimnya aktivitas di waktu tersebut.\n",
        "- Pola penyewaan berdasarkan hari kerja dan har libur, hari kerja memiliki rata-rata penyewaan lebih tinggi dibandingkan dengan hari libur. Meskipun hari kerja memiliki rata-rata penyewaan lebih tinggi, hari libur mencatat jumlah penyewaan tertinggi dan terendah, yang bisa disebabkan oleh perbedaan kebiasaan pengguna pada akhir pekan (misalnya, beberapa orang lebih memilih beristirahat, sementara lainnya justru lebih banyak bersepeda untuk rekreasi).\n",
        "- Rata-rata penyewaan per hari relatif stabil sepanjang minggu, tetapi hari Jumat memiliki penyewaan tertinggi yang bisa terjadi karena meningkatnya aktivitas menjelang akhir pekan, sementara hari Minggu memiliki penyewaan paling rendah.\n",
        "\n",
        "**Kesimpulan Akhir**\n",
        "Dari hasil analisis ini, dapat dilihat bahwa pola penyewaan sepeda dipengaruhi oleh faktor cuaca, musim, waktu, serta hari kerja dan hari libur. Dengan memahami pola tersebut dapat dilakukan strategi yang dapat meningkatkan penyewaan sepeda."
      ]
    },
    {
      "cell_type": "markdown",
      "metadata": {},
      "source": [
        "**Strategi bisnis**\n",
        "- Untuk waktu tertentu seperti jam sibuk (pukul 08:00 dan 17:00 - 18:00) harga dapat dinaikkan atau dilakukan penyesuaian harga karena peminatan tinggi.\n",
        "- Memberikan diskon atau promo saat cuaca buruk atau musim semi agar pelanggan tertarik dan dapat meningkatkan penyewaan sepeda.\n",
        "- Selain itu dapat memberikan harga khusus pada hari libur agar meratakan penyewaan sepeda untuk hari libur."
      ]
    },
    {
      "cell_type": "markdown",
      "metadata": {},
      "source": [
        "Simpan hasil"
      ]
    },
    {
      "cell_type": "code",
      "execution_count": 69,
      "metadata": {},
      "outputs": [],
      "source": [
        "# day_df.to_csv('/Users/macbook/Downloads/Proyek_Analisis_Data/data_day.csv', index=False)\n",
        "# hour_df.to_csv('/Users/macbook/Downloads/Proyek_Analisis_Data/data_hour.csv', index=False)"
      ]
    }
  ],
  "metadata": {
    "colab": {
      "provenance": []
    },
    "kernelspec": {
      "display_name": "Python 3",
      "language": "python",
      "name": "python3"
    },
    "language_info": {
      "codemirror_mode": {
        "name": "ipython",
        "version": 3
      },
      "file_extension": ".py",
      "mimetype": "text/x-python",
      "name": "python",
      "nbconvert_exporter": "python",
      "pygments_lexer": "ipython3",
      "version": "3.9.6"
    },
    "orig_nbformat": 4,
    "vscode": {
      "interpreter": {
        "hash": "972b3bf27e332e87b5379f2791f6ef9dfc79c71018c370b0d7423235e20fe4d7"
      }
    }
  },
  "nbformat": 4,
  "nbformat_minor": 0
}
